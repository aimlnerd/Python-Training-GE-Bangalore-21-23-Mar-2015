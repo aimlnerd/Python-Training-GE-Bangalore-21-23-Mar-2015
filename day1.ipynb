{
 "metadata": {
  "name": "",
  "signature": "sha256:4f93d2fb3a6b5a2d6d778669466c01a2400bdc59635c348030db2a5c77a41d95"
 },
 "nbformat": 3,
 "nbformat_minor": 0,
 "worksheets": [
  {
   "cells": [
    {
     "cell_type": "code",
     "collapsed": false,
     "input": [
      "name = \"hp\"\n",
      "city = 'bangalore'\n",
      "\n",
      "city"
     ],
     "language": "python",
     "metadata": {},
     "outputs": [
      {
       "metadata": {},
       "output_type": "pyout",
       "prompt_number": 2,
       "text": [
        "'bangalore'"
       ]
      }
     ],
     "prompt_number": 2
    },
    {
     "cell_type": "code",
     "collapsed": false,
     "input": [
      "type(city)"
     ],
     "language": "python",
     "metadata": {},
     "outputs": [
      {
       "metadata": {},
       "output_type": "pyout",
       "prompt_number": 4,
       "text": [
        "str"
       ]
      }
     ],
     "prompt_number": 4
    },
    {
     "cell_type": "code",
     "collapsed": false,
     "input": [
      "print dir(str)"
     ],
     "language": "python",
     "metadata": {},
     "outputs": [
      {
       "output_type": "stream",
       "stream": "stdout",
       "text": [
        "['__add__', '__class__', '__contains__', '__delattr__', '__doc__', '__eq__', '__format__', '__ge__', '__getattribute__', '__getitem__', '__getnewargs__', '__getslice__', '__gt__', '__hash__', '__init__', '__le__', '__len__', '__lt__', '__mod__', '__mul__', '__ne__', '__new__', '__reduce__', '__reduce_ex__', '__repr__', '__rmod__', '__rmul__', '__setattr__', '__sizeof__', '__str__', '__subclasshook__', '_formatter_field_name_split', '_formatter_parser', 'capitalize', 'center', 'count', 'decode', 'encode', 'endswith', 'expandtabs', 'find', 'format', 'index', 'isalnum', 'isalpha', 'isdigit', 'islower', 'isspace', 'istitle', 'isupper', 'join', 'ljust', 'lower', 'lstrip', 'partition', 'replace', 'rfind', 'rindex', 'rjust', 'rpartition', 'rsplit', 'rstrip', 'split', 'splitlines', 'startswith', 'strip', 'swapcase', 'title', 'translate', 'upper', 'zfill']\n"
       ]
      }
     ],
     "prompt_number": 5
    },
    {
     "cell_type": "code",
     "collapsed": false,
     "input": [
      "name.center(60, '-')"
     ],
     "language": "python",
     "metadata": {},
     "outputs": [
      {
       "metadata": {},
       "output_type": "pyout",
       "prompt_number": 7,
       "text": [
        "'-----------------------------hp-----------------------------'"
       ]
      }
     ],
     "prompt_number": 7
    },
    {
     "cell_type": "code",
     "collapsed": false,
     "input": [
      "print name\n",
      "print city\n",
      "\n",
      "print name.__add__(city)\n",
      "print name + city    #  name.__add__(city)\n"
     ],
     "language": "python",
     "metadata": {},
     "outputs": [
      {
       "output_type": "stream",
       "stream": "stdout",
       "text": [
        "hp\n",
        "bangalore\n",
        "hpbangalore\n",
        "hpbangalore\n"
       ]
      }
     ],
     "prompt_number": 11
    },
    {
     "cell_type": "code",
     "collapsed": false,
     "input": [
      "print name * 3\n",
      "print name.__mul__(3)"
     ],
     "language": "python",
     "metadata": {},
     "outputs": [
      {
       "output_type": "stream",
       "stream": "stdout",
       "text": [
        "hphphp\n",
        "hphphp\n"
       ]
      }
     ],
     "prompt_number": 13
    },
    {
     "cell_type": "code",
     "collapsed": false,
     "input": [
      "help(str)"
     ],
     "language": "python",
     "metadata": {},
     "outputs": [
      {
       "output_type": "stream",
       "stream": "stdout",
       "text": [
        "Help on class str in module __builtin__:\n",
        "\n",
        "class str(basestring)\n",
        " |  str(object='') -> string\n",
        " |  \n",
        " |  Return a nice string representation of the object.\n",
        " |  If the argument is a string, the return value is the same object.\n",
        " |  \n",
        " |  Method resolution order:\n",
        " |      str\n",
        " |      basestring\n",
        " |      object\n",
        " |  \n",
        " |  Methods defined here:\n",
        " |  \n",
        " |  __add__(...)\n",
        " |      x.__add__(y) <==> x+y\n",
        " |  \n",
        " |  __contains__(...)\n",
        " |      x.__contains__(y) <==> y in x\n",
        " |  \n",
        " |  __eq__(...)\n",
        " |      x.__eq__(y) <==> x==y\n",
        " |  \n",
        " |  __format__(...)\n",
        " |      S.__format__(format_spec) -> string\n",
        " |      \n",
        " |      Return a formatted version of S as described by format_spec.\n",
        " |  \n",
        " |  __ge__(...)\n",
        " |      x.__ge__(y) <==> x>=y\n",
        " |  \n",
        " |  __getattribute__(...)\n",
        " |      x.__getattribute__('name') <==> x.name\n",
        " |  \n",
        " |  __getitem__(...)\n",
        " |      x.__getitem__(y) <==> x[y]\n",
        " |  \n",
        " |  __getnewargs__(...)\n",
        " |  \n",
        " |  __getslice__(...)\n",
        " |      x.__getslice__(i, j) <==> x[i:j]\n",
        " |      \n",
        " |      Use of negative indices is not supported.\n",
        " |  \n",
        " |  __gt__(...)\n",
        " |      x.__gt__(y) <==> x>y\n",
        " |  \n",
        " |  __hash__(...)\n",
        " |      x.__hash__() <==> hash(x)\n",
        " |  \n",
        " |  __le__(...)\n",
        " |      x.__le__(y) <==> x<=y\n",
        " |  \n",
        " |  __len__(...)\n",
        " |      x.__len__() <==> len(x)\n",
        " |  \n",
        " |  __lt__(...)\n",
        " |      x.__lt__(y) <==> x<y\n",
        " |  \n",
        " |  __mod__(...)\n",
        " |      x.__mod__(y) <==> x%y\n",
        " |  \n",
        " |  __mul__(...)\n",
        " |      x.__mul__(n) <==> x*n\n",
        " |  \n",
        " |  __ne__(...)\n",
        " |      x.__ne__(y) <==> x!=y\n",
        " |  \n",
        " |  __repr__(...)\n",
        " |      x.__repr__() <==> repr(x)\n",
        " |  \n",
        " |  __rmod__(...)\n",
        " |      x.__rmod__(y) <==> y%x\n",
        " |  \n",
        " |  __rmul__(...)\n",
        " |      x.__rmul__(n) <==> n*x\n",
        " |  \n",
        " |  __sizeof__(...)\n",
        " |      S.__sizeof__() -> size of S in memory, in bytes\n",
        " |  \n",
        " |  __str__(...)\n",
        " |      x.__str__() <==> str(x)\n",
        " |  \n",
        " |  capitalize(...)\n",
        " |      S.capitalize() -> string\n",
        " |      \n",
        " |      Return a copy of the string S with only its first character\n",
        " |      capitalized.\n",
        " |  \n",
        " |  center(...)\n",
        " |      S.center(width[, fillchar]) -> string\n",
        " |      \n",
        " |      Return S centered in a string of length width. Padding is\n",
        " |      done using the specified fill character (default is a space)\n",
        " |  \n",
        " |  count(...)\n",
        " |      S.count(sub[, start[, end]]) -> int\n",
        " |      \n",
        " |      Return the number of non-overlapping occurrences of substring sub in\n",
        " |      string S[start:end].  Optional arguments start and end are interpreted\n",
        " |      as in slice notation.\n",
        " |  \n",
        " |  decode(...)\n",
        " |      S.decode([encoding[,errors]]) -> object\n",
        " |      \n",
        " |      Decodes S using the codec registered for encoding. encoding defaults\n",
        " |      to the default encoding. errors may be given to set a different error\n",
        " |      handling scheme. Default is 'strict' meaning that encoding errors raise\n",
        " |      a UnicodeDecodeError. Other possible values are 'ignore' and 'replace'\n",
        " |      as well as any other name registered with codecs.register_error that is\n",
        " |      able to handle UnicodeDecodeErrors.\n",
        " |  \n",
        " |  encode(...)\n",
        " |      S.encode([encoding[,errors]]) -> object\n",
        " |      \n",
        " |      Encodes S using the codec registered for encoding. encoding defaults\n",
        " |      to the default encoding. errors may be given to set a different error\n",
        " |      handling scheme. Default is 'strict' meaning that encoding errors raise\n",
        " |      a UnicodeEncodeError. Other possible values are 'ignore', 'replace' and\n",
        " |      'xmlcharrefreplace' as well as any other name registered with\n",
        " |      codecs.register_error that is able to handle UnicodeEncodeErrors.\n",
        " |  \n",
        " |  endswith(...)\n",
        " |      S.endswith(suffix[, start[, end]]) -> bool\n",
        " |      \n",
        " |      Return True if S ends with the specified suffix, False otherwise.\n",
        " |      With optional start, test S beginning at that position.\n",
        " |      With optional end, stop comparing S at that position.\n",
        " |      suffix can also be a tuple of strings to try.\n",
        " |  \n",
        " |  expandtabs(...)\n",
        " |      S.expandtabs([tabsize]) -> string\n",
        " |      \n",
        " |      Return a copy of S where all tab characters are expanded using spaces.\n",
        " |      If tabsize is not given, a tab size of 8 characters is assumed.\n",
        " |  \n",
        " |  find(...)\n",
        " |      S.find(sub [,start [,end]]) -> int\n",
        " |      \n",
        " |      Return the lowest index in S where substring sub is found,\n",
        " |      such that sub is contained within S[start:end].  Optional\n",
        " |      arguments start and end are interpreted as in slice notation.\n",
        " |      \n",
        " |      Return -1 on failure.\n",
        " |  \n",
        " |  format(...)\n",
        " |      S.format(*args, **kwargs) -> string\n",
        " |      \n",
        " |      Return a formatted version of S, using substitutions from args and kwargs.\n",
        " |      The substitutions are identified by braces ('{' and '}').\n",
        " |  \n",
        " |  index(...)\n",
        " |      S.index(sub [,start [,end]]) -> int\n",
        " |      \n",
        " |      Like S.find() but raise ValueError when the substring is not found.\n",
        " |  \n",
        " |  isalnum(...)\n",
        " |      S.isalnum() -> bool\n",
        " |      \n",
        " |      Return True if all characters in S are alphanumeric\n",
        " |      and there is at least one character in S, False otherwise.\n",
        " |  \n",
        " |  isalpha(...)\n",
        " |      S.isalpha() -> bool\n",
        " |      \n",
        " |      Return True if all characters in S are alphabetic\n",
        " |      and there is at least one character in S, False otherwise.\n",
        " |  \n",
        " |  isdigit(...)\n",
        " |      S.isdigit() -> bool\n",
        " |      \n",
        " |      Return True if all characters in S are digits\n",
        " |      and there is at least one character in S, False otherwise.\n",
        " |  \n",
        " |  islower(...)\n",
        " |      S.islower() -> bool\n",
        " |      \n",
        " |      Return True if all cased characters in S are lowercase and there is\n",
        " |      at least one cased character in S, False otherwise.\n",
        " |  \n",
        " |  isspace(...)\n",
        " |      S.isspace() -> bool\n",
        " |      \n",
        " |      Return True if all characters in S are whitespace\n",
        " |      and there is at least one character in S, False otherwise.\n",
        " |  \n",
        " |  istitle(...)\n",
        " |      S.istitle() -> bool\n",
        " |      \n",
        " |      Return True if S is a titlecased string and there is at least one\n",
        " |      character in S, i.e. uppercase characters may only follow uncased\n",
        " |      characters and lowercase characters only cased ones. Return False\n",
        " |      otherwise.\n",
        " |  \n",
        " |  isupper(...)\n",
        " |      S.isupper() -> bool\n",
        " |      \n",
        " |      Return True if all cased characters in S are uppercase and there is\n",
        " |      at least one cased character in S, False otherwise.\n",
        " |  \n",
        " |  join(...)\n",
        " |      S.join(iterable) -> string\n",
        " |      \n",
        " |      Return a string which is the concatenation of the strings in the\n",
        " |      iterable.  The separator between elements is S.\n",
        " |  \n",
        " |  ljust(...)\n",
        " |      S.ljust(width[, fillchar]) -> string\n",
        " |      \n",
        " |      Return S left-justified in a string of length width. Padding is\n",
        " |      done using the specified fill character (default is a space).\n",
        " |  \n",
        " |  lower(...)\n",
        " |      S.lower() -> string\n",
        " |      \n",
        " |      Return a copy of the string S converted to lowercase.\n",
        " |  \n",
        " |  lstrip(...)\n",
        " |      S.lstrip([chars]) -> string or unicode\n",
        " |      \n",
        " |      Return a copy of the string S with leading whitespace removed.\n",
        " |      If chars is given and not None, remove characters in chars instead.\n",
        " |      If chars is unicode, S will be converted to unicode before stripping\n",
        " |  \n",
        " |  partition(...)\n",
        " |      S.partition(sep) -> (head, sep, tail)\n",
        " |      \n",
        " |      Search for the separator sep in S, and return the part before it,\n",
        " |      the separator itself, and the part after it.  If the separator is not\n",
        " |      found, return S and two empty strings.\n",
        " |  \n",
        " |  replace(...)\n",
        " |      S.replace(old, new[, count]) -> string\n",
        " |      \n",
        " |      Return a copy of string S with all occurrences of substring\n",
        " |      old replaced by new.  If the optional argument count is\n",
        " |      given, only the first count occurrences are replaced.\n",
        " |  \n",
        " |  rfind(...)\n",
        " |      S.rfind(sub [,start [,end]]) -> int\n",
        " |      \n",
        " |      Return the highest index in S where substring sub is found,\n",
        " |      such that sub is contained within S[start:end].  Optional\n",
        " |      arguments start and end are interpreted as in slice notation.\n",
        " |      \n",
        " |      Return -1 on failure.\n",
        " |  \n",
        " |  rindex(...)\n",
        " |      S.rindex(sub [,start [,end]]) -> int\n",
        " |      \n",
        " |      Like S.rfind() but raise ValueError when the substring is not found.\n",
        " |  \n",
        " |  rjust(...)\n",
        " |      S.rjust(width[, fillchar]) -> string\n",
        " |      \n",
        " |      Return S right-justified in a string of length width. Padding is\n",
        " |      done using the specified fill character (default is a space)\n",
        " |  \n",
        " |  rpartition(...)\n",
        " |      S.rpartition(sep) -> (head, sep, tail)\n",
        " |      \n",
        " |      Search for the separator sep in S, starting at the end of S, and return\n",
        " |      the part before it, the separator itself, and the part after it.  If the\n",
        " |      separator is not found, return two empty strings and S.\n",
        " |  \n",
        " |  rsplit(...)\n",
        " |      S.rsplit([sep [,maxsplit]]) -> list of strings\n",
        " |      \n",
        " |      Return a list of the words in the string S, using sep as the\n",
        " |      delimiter string, starting at the end of the string and working\n",
        " |      to the front.  If maxsplit is given, at most maxsplit splits are\n",
        " |      done. If sep is not specified or is None, any whitespace string\n",
        " |      is a separator.\n",
        " |  \n",
        " |  rstrip(...)\n",
        " |      S.rstrip([chars]) -> string or unicode\n",
        " |      \n",
        " |      Return a copy of the string S with trailing whitespace removed.\n",
        " |      If chars is given and not None, remove characters in chars instead.\n",
        " |      If chars is unicode, S will be converted to unicode before stripping\n",
        " |  \n",
        " |  split(...)\n",
        " |      S.split([sep [,maxsplit]]) -> list of strings\n",
        " |      \n",
        " |      Return a list of the words in the string S, using sep as the\n",
        " |      delimiter string.  If maxsplit is given, at most maxsplit\n",
        " |      splits are done. If sep is not specified or is None, any\n",
        " |      whitespace string is a separator and empty strings are removed\n",
        " |      from the result.\n",
        " |  \n",
        " |  splitlines(...)\n",
        " |      S.splitlines(keepends=False) -> list of strings\n",
        " |      \n",
        " |      Return a list of the lines in S, breaking at line boundaries.\n",
        " |      Line breaks are not included in the resulting list unless keepends\n",
        " |      is given and true.\n",
        " |  \n",
        " |  startswith(...)\n",
        " |      S.startswith(prefix[, start[, end]]) -> bool\n",
        " |      \n",
        " |      Return True if S starts with the specified prefix, False otherwise.\n",
        " |      With optional start, test S beginning at that position.\n",
        " |      With optional end, stop comparing S at that position.\n",
        " |      prefix can also be a tuple of strings to try.\n",
        " |  \n",
        " |  strip(...)\n",
        " |      S.strip([chars]) -> string or unicode\n",
        " |      \n",
        " |      Return a copy of the string S with leading and trailing\n",
        " |      whitespace removed.\n",
        " |      If chars is given and not None, remove characters in chars instead.\n",
        " |      If chars is unicode, S will be converted to unicode before stripping\n",
        " |  \n",
        " |  swapcase(...)\n",
        " |      S.swapcase() -> string\n",
        " |      \n",
        " |      Return a copy of the string S with uppercase characters\n",
        " |      converted to lowercase and vice versa.\n",
        " |  \n",
        " |  title(...)\n",
        " |      S.title() -> string\n",
        " |      \n",
        " |      Return a titlecased version of S, i.e. words start with uppercase\n",
        " |      characters, all remaining cased characters have lowercase.\n",
        " |  \n",
        " |  translate(...)\n",
        " |      S.translate(table [,deletechars]) -> string\n",
        " |      \n",
        " |      Return a copy of the string S, where all characters occurring\n",
        " |      in the optional argument deletechars are removed, and the\n",
        " |      remaining characters have been mapped through the given\n",
        " |      translation table, which must be a string of length 256 or None.\n",
        " |      If the table argument is None, no translation is applied and\n",
        " |      the operation simply removes the characters in deletechars.\n",
        " |  \n",
        " |  upper(...)\n",
        " |      S.upper() -> string\n",
        " |      \n",
        " |      Return a copy of the string S converted to uppercase.\n",
        " |  \n",
        " |  zfill(...)\n",
        " |      S.zfill(width) -> string\n",
        " |      \n",
        " |      Pad a numeric string S with zeros on the left, to fill a field\n",
        " |      of the specified width.  The string S is never truncated.\n",
        " |  \n",
        " |  ----------------------------------------------------------------------\n",
        " |  Data and other attributes defined here:\n",
        " |  \n",
        " |  __new__ = <built-in method __new__ of type object>\n",
        " |      T.__new__(S, ...) -> a new object with type S, a subtype of T\n",
        "\n"
       ]
      }
     ],
     "prompt_number": 14
    },
    {
     "cell_type": "code",
     "collapsed": false,
     "input": [
      "#help(int)"
     ],
     "language": "python",
     "metadata": {},
     "outputs": [],
     "prompt_number": 16
    },
    {
     "cell_type": "code",
     "collapsed": false,
     "input": [
      "n = 1000\n",
      "print type(n)\n",
      "\n",
      "n = 12.12\n",
      "print type(n)\n",
      "\n",
      "print hex(id(n))"
     ],
     "language": "python",
     "metadata": {},
     "outputs": [
      {
       "output_type": "stream",
       "stream": "stdout",
       "text": [
        "<type 'int'>\n",
        "<type 'float'>\n",
        "0x20d9d58\n"
       ]
      }
     ],
     "prompt_number": 20
    },
    {
     "cell_type": "code",
     "collapsed": false,
     "input": [
      "help(id)"
     ],
     "language": "python",
     "metadata": {},
     "outputs": [
      {
       "output_type": "stream",
       "stream": "stdout",
       "text": [
        "Help on built-in function id in module __builtin__:\n",
        "\n",
        "id(...)\n",
        "    id(object) -> integer\n",
        "    \n",
        "    Return the identity of an object.  This is guaranteed to be unique among\n",
        "    simultaneously existing objects.  (Hint: it's the object's memory address.)\n",
        "\n"
       ]
      }
     ],
     "prompt_number": 21
    },
    {
     "cell_type": "code",
     "collapsed": false,
     "input": [
      "a = 10\n",
      "b = 10\n",
      "c = b\n",
      "print id(a)\n",
      "print id(b)\n",
      "print id(c)"
     ],
     "language": "python",
     "metadata": {},
     "outputs": [
      {
       "output_type": "stream",
       "stream": "stdout",
       "text": [
        "29188288\n",
        "29188288\n",
        "29188288\n"
       ]
      }
     ],
     "prompt_number": 22
    },
    {
     "cell_type": "code",
     "collapsed": false,
     "input": [
      "n = 152\n",
      "m = 152\n",
      "o = 152\n",
      "p = n\n",
      "from sys import getrefcount\n",
      "print getrefcount(n)\n",
      "\n",
      "\n",
      "del o\n",
      "del m\n",
      "del p\n",
      "print getrefcount(n)\n"
     ],
     "language": "python",
     "metadata": {},
     "outputs": [
      {
       "output_type": "stream",
       "stream": "stdout",
       "text": [
        "13\n",
        "10\n"
       ]
      }
     ],
     "prompt_number": 31
    },
    {
     "cell_type": "code",
     "collapsed": false,
     "input": [
      "import math\n",
      "import sys \n",
      "\n",
      "print math.__name__\n",
      "print sys.__name__\n",
      "print __name__"
     ],
     "language": "python",
     "metadata": {},
     "outputs": [
      {
       "output_type": "stream",
       "stream": "stdout",
       "text": [
        "math\n",
        "sys\n",
        "__main__\n"
       ]
      }
     ],
     "prompt_number": 35
    },
    {
     "cell_type": "code",
     "collapsed": false,
     "input": [
      "\"\"\"\n",
      "0. if for the module\n",
      "1. search & locate\n",
      "2. exec\n",
      "3. includes the namespace to your script\n",
      "\"\"\""
     ],
     "language": "python",
     "metadata": {},
     "outputs": [
      {
       "metadata": {},
       "output_type": "pyout",
       "prompt_number": 36,
       "text": [
        "'\\n0. if for the module\\n1. search & locate\\n2. exec\\n3. includes the namespace to your script\\n'"
       ]
      }
     ],
     "prompt_number": 36
    },
    {
     "cell_type": "code",
     "collapsed": false,
     "input": [
      "import sys \n",
      "import pprint\n",
      "pprint.pprint(sys.path)"
     ],
     "language": "python",
     "metadata": {},
     "outputs": [
      {
       "output_type": "stream",
       "stream": "stdout",
       "text": [
        "['',\n",
        " '/usr/lib64/python27.zip',\n",
        " '/usr/lib64/python2.7',\n",
        " '/usr/lib64/python2.7/plat-linux2',\n",
        " '/usr/lib64/python2.7/lib-tk',\n",
        " '/usr/lib64/python2.7/lib-old',\n",
        " '/usr/lib64/python2.7/lib-dynload',\n",
        " '/usr/lib64/python2.7/site-packages',\n",
        " '/usr/lib64/python2.7/site-packages/gst-0.10',\n",
        " '/usr/lib64/python2.7/site-packages/gtk-2.0',\n",
        " '/usr/lib64/python2.7/site-packages/wx-3.0-gtk3',\n",
        " '/usr/lib/python2.7/site-packages',\n",
        " '/usr/lib/python2.7/site-packages/IPython/extensions']\n"
       ]
      }
     ],
     "prompt_number": 38
    },
    {
     "cell_type": "code",
     "collapsed": false,
     "input": [
      "import math\n",
      "print dir(math)"
     ],
     "language": "python",
     "metadata": {},
     "outputs": [
      {
       "output_type": "stream",
       "stream": "stdout",
       "text": [
        "['__doc__', '__file__', '__name__', '__package__', 'acos', 'acosh', 'asin', 'asinh', 'atan', 'atan2', 'atanh', 'ceil', 'copysign', 'cos', 'cosh', 'degrees', 'e', 'erf', 'erfc', 'exp', 'expm1', 'fabs', 'factorial', 'floor', 'fmod', 'frexp', 'fsum', 'gamma', 'hypot', 'isinf', 'isnan', 'ldexp', 'lgamma', 'log', 'log10', 'log1p', 'modf', 'pi', 'pow', 'radians', 'sin', 'sinh', 'sqrt', 'tan', 'tanh', 'trunc']\n"
       ]
      }
     ],
     "prompt_number": 40
    },
    {
     "cell_type": "code",
     "collapsed": false,
     "input": [
      "#help(math)"
     ],
     "language": "python",
     "metadata": {},
     "outputs": [],
     "prompt_number": 42
    },
    {
     "cell_type": "code",
     "collapsed": false,
     "input": [
      "print math.pi\n",
      "print math.sin"
     ],
     "language": "python",
     "metadata": {},
     "outputs": [
      {
       "output_type": "stream",
       "stream": "stdout",
       "text": [
        "3.14159265359\n",
        "<built-in function sin>\n"
       ]
      }
     ],
     "prompt_number": 47
    },
    {
     "cell_type": "code",
     "collapsed": false,
     "input": [
      "print callable(math.sin)\n",
      "print callable(math.pi)"
     ],
     "language": "python",
     "metadata": {},
     "outputs": [
      {
       "output_type": "stream",
       "stream": "stdout",
       "text": [
        "True\n",
        "False\n"
       ]
      }
     ],
     "prompt_number": 51
    },
    {
     "cell_type": "code",
     "collapsed": false,
     "input": [
      "help()"
     ],
     "language": "python",
     "metadata": {},
     "outputs": [
      {
       "output_type": "stream",
       "stream": "stdout",
       "text": [
        "\n",
        "Welcome to Python 2.7!  This is the online help utility.\n",
        "\n",
        "If this is your first time using Python, you should definitely check out\n",
        "the tutorial on the Internet at http://docs.python.org/2.7/tutorial/.\n",
        "\n",
        "Enter the name of any module, keyword, or topic to get help on writing\n",
        "Python programs and using Python modules.  To quit this help utility and\n",
        "return to the interpreter, just type \"quit\".\n",
        "\n",
        "To get a list of available modules, keywords, or topics, type \"modules\",\n",
        "\"keywords\", or \"topics\".  Each module also comes with a one-line summary\n",
        "of what it does; to list the modules whose summaries contain a given word\n",
        "such as \"spam\", type \"modules spam\".\n",
        "\n"
       ]
      },
      {
       "name": "stdout",
       "output_type": "stream",
       "stream": "stdout",
       "text": [
        "help> \n"
       ]
      },
      {
       "output_type": "stream",
       "stream": "stdout",
       "text": [
        "\n",
        "You are now leaving help and returning to the Python interpreter.\n",
        "If you want to ask for help on a particular object directly from the\n",
        "interpreter, you can type \"help(object)\".  Executing \"help('string')\"\n",
        "has the same effect as typing a particular string at the help> prompt.\n"
       ]
      }
     ],
     "prompt_number": 52
    },
    {
     "cell_type": "code",
     "collapsed": false,
     "input": [
      "a = 0.1 \n",
      "b = 0.3 \n",
      "c = a + a + a - b\n",
      "\n",
      "print c\n",
      "print 3e-3\n",
      "#print .8/3"
     ],
     "language": "python",
     "metadata": {},
     "outputs": [
      {
       "output_type": "stream",
       "stream": "stdout",
       "text": [
        "5.55111512313e-17\n",
        "0.003\n",
        "0.266666666667\n"
       ]
      }
     ],
     "prompt_number": 55
    },
    {
     "cell_type": "code",
     "collapsed": false,
     "input": [
      "5.55111512313e-17 == 0"
     ],
     "language": "python",
     "metadata": {},
     "outputs": [
      {
       "metadata": {},
       "output_type": "pyout",
       "prompt_number": 56,
       "text": [
        "False"
       ]
      }
     ],
     "prompt_number": 56
    },
    {
     "cell_type": "code",
     "collapsed": false,
     "input": [
      "from decimal import Decimal as D\n",
      "a = 0.1\n",
      "b = 0.3\n",
      "\n",
      "print D(a)\n",
      "c =  D(str(a)) + D(str(a)) + D(str(a)) -  D(str(b))\n",
      "print c \n",
      "print type(c)\n",
      "\n",
      "\n"
     ],
     "language": "python",
     "metadata": {},
     "outputs": [
      {
       "output_type": "stream",
       "stream": "stdout",
       "text": [
        "0.1000000000000000055511151231257827021181583404541015625\n",
        "0.0\n",
        "<class 'decimal.Decimal'>\n"
       ]
      }
     ],
     "prompt_number": 71
    },
    {
     "cell_type": "code",
     "collapsed": false,
     "input": [
      "#content manager \n",
      "#with \n",
      "#offers\n",
      "#event\n",
      "#entry\n",
      "#exit\n",
      "\n"
     ],
     "language": "python",
     "metadata": {},
     "outputs": [],
     "prompt_number": 72
    },
    {
     "cell_type": "code",
     "collapsed": false,
     "input": [
      "from os import chdir, getcwd\n",
      "print getcwd()\n",
      "print\n",
      "\n",
      "chdir('/tmp')\n",
      "\n",
      "print getcwd()\n",
      "print \n",
      "\n"
     ],
     "language": "python",
     "metadata": {},
     "outputs": [
      {
       "output_type": "stream",
       "stream": "stdout",
       "text": [
        "/tmp\n",
        "\n",
        "/tmp\n",
        "\n"
       ]
      }
     ],
     "prompt_number": 78
    },
    {
     "cell_type": "code",
     "collapsed": false,
     "input": [
      "print 2 ** 62\n",
      "2 ** 63\n",
      "\n",
      "print 5l\n",
      "print 5L"
     ],
     "language": "python",
     "metadata": {},
     "outputs": [
      {
       "output_type": "stream",
       "stream": "stdout",
       "text": [
        "4611686018427387904\n",
        "5\n",
        "5\n"
       ]
      }
     ],
     "prompt_number": 85
    },
    {
     "cell_type": "code",
     "collapsed": false,
     "input": [
      "print 0b1111, 0xf, 017, 15"
     ],
     "language": "python",
     "metadata": {},
     "outputs": [
      {
       "output_type": "stream",
       "stream": "stdout",
       "text": [
        "15 15 15 15\n"
       ]
      }
     ],
     "prompt_number": 86
    },
    {
     "cell_type": "code",
     "collapsed": false,
     "input": [
      "value = '1111'\n",
      "int('0b1111', 2)"
     ],
     "language": "python",
     "metadata": {},
     "outputs": [
      {
       "metadata": {},
       "output_type": "pyout",
       "prompt_number": 94,
       "text": [
        "15"
       ]
      }
     ],
     "prompt_number": 94
    },
    {
     "cell_type": "code",
     "collapsed": false,
     "input": [
      "n = 0b1111\n",
      "\n",
      "bin(n)"
     ],
     "language": "python",
     "metadata": {},
     "outputs": [
      {
       "metadata": {},
       "output_type": "pyout",
       "prompt_number": 90,
       "text": [
        "'0b1111'"
       ]
      }
     ],
     "prompt_number": 90
    },
    {
     "cell_type": "code",
     "collapsed": false,
     "input": [
      "n = 100\n",
      "print bin(n)"
     ],
     "language": "python",
     "metadata": {},
     "outputs": [
      {
       "output_type": "stream",
       "stream": "stdout",
       "text": [
        "0b1100100\n"
       ]
      }
     ],
     "prompt_number": 96
    },
    {
     "cell_type": "code",
     "collapsed": false,
     "input": [
      "int('17', 8)"
     ],
     "language": "python",
     "metadata": {},
     "outputs": [
      {
       "metadata": {},
       "output_type": "pyout",
       "prompt_number": 98,
       "text": [
        "15"
       ]
      }
     ],
     "prompt_number": 98
    },
    {
     "cell_type": "code",
     "collapsed": false,
     "input": [
      "value = \"12345\"\n",
      "value.isalnum()"
     ],
     "language": "python",
     "metadata": {},
     "outputs": [
      {
       "metadata": {},
       "output_type": "pyout",
       "prompt_number": 101,
       "text": [
        "True"
       ]
      }
     ],
     "prompt_number": 101
    },
    {
     "cell_type": "code",
     "collapsed": false,
     "input": [
      "n = 15\n",
      "print bin(n)\n",
      "print oct(n)\n",
      "print hex(n)\n"
     ],
     "language": "python",
     "metadata": {},
     "outputs": [
      {
       "output_type": "stream",
       "stream": "stdout",
       "text": [
        "0b1111\n",
        "017\n",
        "0xf\n"
       ]
      }
     ],
     "prompt_number": 106
    },
    {
     "cell_type": "code",
     "collapsed": false,
     "input": [
      "5 / float(2)"
     ],
     "language": "python",
     "metadata": {},
     "outputs": [
      {
       "metadata": {},
       "output_type": "pyout",
       "prompt_number": 108,
       "text": [
        "2.5"
       ]
      }
     ],
     "prompt_number": 108
    },
    {
     "cell_type": "code",
     "collapsed": false,
     "input": [
      "n = 4+3j\n",
      "n\n",
      "print type(n)\n",
      "\n",
      "print n.real\n",
      "print n.imag\n",
      "print n.conjugate()\n",
      "\n",
      "print n * n"
     ],
     "language": "python",
     "metadata": {},
     "outputs": [
      {
       "metadata": {},
       "output_type": "pyout",
       "prompt_number": 118,
       "text": [
        "complex"
       ]
      }
     ],
     "prompt_number": 118
    },
    {
     "cell_type": "code",
     "collapsed": false,
     "input": [
      "print 5.8 / 2\n",
      "print (5.8 // 2) + 1"
     ],
     "language": "python",
     "metadata": {},
     "outputs": [
      {
       "output_type": "stream",
       "stream": "stdout",
       "text": [
        "2.9\n",
        "3.0\n"
       ]
      }
     ],
     "prompt_number": 122
    },
    {
     "cell_type": "code",
     "collapsed": false,
     "input": [
      "n = 6\n",
      "\n",
      "print n>=3 and n<=9\n",
      "print not 3 <= n <= 9"
     ],
     "language": "python",
     "metadata": {},
     "outputs": [
      {
       "output_type": "stream",
       "stream": "stdout",
       "text": [
        "True\n",
        "False\n"
       ]
      }
     ],
     "prompt_number": 127
    },
    {
     "cell_type": "code",
     "collapsed": false,
     "input": [
      "n = 7\n",
      "print ~n"
     ],
     "language": "python",
     "metadata": {},
     "outputs": [
      {
       "output_type": "stream",
       "stream": "stdout",
       "text": [
        "-8\n"
       ]
      }
     ],
     "prompt_number": 128
    },
    {
     "cell_type": "code",
     "collapsed": false,
     "input": [
      "print range(10)\n",
      "print range(1, 10)\n",
      "print range(1, 10, 2)\n"
     ],
     "language": "python",
     "metadata": {},
     "outputs": [
      {
       "output_type": "stream",
       "stream": "stdout",
       "text": [
        "[0, 1, 2, 3, 4, 5, 6, 7, 8, 9]\n",
        "[1, 2, 3, 4, 5, 6, 7, 8, 9]\n",
        "[1, 3, 5, 7, 9]\n"
       ]
      }
     ],
     "prompt_number": 131
    },
    {
     "cell_type": "code",
     "collapsed": false,
     "input": [
      "s = \"this is a sample string\"\n",
      "\n",
      "print 'sam' in s\n",
      "print 's i' in s\n",
      "print 'zee' not in s"
     ],
     "language": "python",
     "metadata": {},
     "outputs": [
      {
       "output_type": "stream",
       "stream": "stdout",
       "text": [
        "True\n",
        "True\n",
        "True\n"
       ]
      }
     ],
     "prompt_number": 134
    },
    {
     "cell_type": "code",
     "collapsed": false,
     "input": [
      "l = range(22)\n",
      "l.append([1, 2, 3])\n",
      "\n",
      "print l\n",
      "print 17 in l\n",
      "print \n",
      "print [1,2,3] in l"
     ],
     "language": "python",
     "metadata": {},
     "outputs": [
      {
       "output_type": "stream",
       "stream": "stdout",
       "text": [
        "[0, 1, 2, 3, 4, 5, 6, 7, 8, 9, 10, 11, 12, 13, 14, 15, 16, 17, 18, 19, 20, 21, [1, 2, 3]]\n",
        "True\n",
        "\n",
        "True\n"
       ]
      }
     ],
     "prompt_number": 141
    },
    {
     "cell_type": "code",
     "collapsed": false,
     "input": [
      "n = 4\n",
      "result  =  n**2 if n > 6 else n**3  #? :\n",
      "result"
     ],
     "language": "python",
     "metadata": {},
     "outputs": [
      {
       "metadata": {},
       "output_type": "pyout",
       "prompt_number": 143,
       "text": [
        "64"
       ]
      }
     ],
     "prompt_number": 143
    },
    {
     "cell_type": "code",
     "collapsed": false,
     "input": [
      "a, b, c = 12, 15, 2\n",
      "bigger = a if a>b and a>c else (b if b>a and b>c else c)\n",
      "print bigger"
     ],
     "language": "python",
     "metadata": {},
     "outputs": [
      {
       "output_type": "stream",
       "stream": "stdout",
       "text": [
        "15\n"
       ]
      }
     ],
     "prompt_number": 144
    },
    {
     "cell_type": "code",
     "collapsed": false,
     "input": [
      "#syntax lambda\n",
      "# lambda  args1, args2,..... : expression\n",
      "\n",
      "power = lambda x, n=0: x ** n\n",
      "print power\n",
      "print type(power)\n",
      "\n",
      "print power(4, 5)\n",
      "print power(4)"
     ],
     "language": "python",
     "metadata": {},
     "outputs": [
      {
       "output_type": "stream",
       "stream": "stdout",
       "text": [
        "<function <lambda> at 0x7f991558d230>\n",
        "<type 'function'>\n",
        "1024\n",
        "1\n"
       ]
      }
     ],
     "prompt_number": 149
    },
    {
     "cell_type": "code",
     "collapsed": false,
     "input": [
      "power = lambda x, n=0: x ** n\n",
      "\n",
      "power = lambda x, n=0: x // n\n",
      "print "
     ],
     "language": "python",
     "metadata": {},
     "outputs": [
      {
       "output_type": "stream",
       "stream": "stdout",
       "text": [
        "\n"
       ]
      }
     ],
     "prompt_number": 150
    },
    {
     "cell_type": "code",
     "collapsed": false,
     "input": [
      "from random import randint\n",
      "print randint(1, 1000)"
     ],
     "language": "python",
     "metadata": {},
     "outputs": [
      {
       "output_type": "stream",
       "stream": "stdout",
       "text": [
        "919\n"
       ]
      }
     ],
     "prompt_number": 151
    },
    {
     "cell_type": "code",
     "collapsed": false,
     "input": [
      "s = \"perl\"\n",
      "print s.index('r')\n",
      "#s[2] = 'R'\n",
      "\n",
      "ba = bytearray(s)\n",
      "ba[2] = 'R'\n",
      "print chr(ba[0])\n",
      "print ba[1]\n",
      "\n"
     ],
     "language": "python",
     "metadata": {},
     "outputs": [
      {
       "output_type": "stream",
       "stream": "stdout",
       "text": [
        "2\n",
        "p\n",
        "101\n"
       ]
      }
     ],
     "prompt_number": 161
    },
    {
     "cell_type": "code",
     "collapsed": false,
     "input": [
      "file_path = 'c:\\templates\\folder99\\nancy\\bale\\file07.txt'\n",
      "\n",
      "print file_path\n",
      "print \n",
      "\n",
      "file_path = r'c:\\templates\\folder99\\nancy\\bale\\file07.txt'\n",
      "\n",
      "print file_path"
     ],
     "language": "python",
     "metadata": {},
     "outputs": [
      {
       "output_type": "stream",
       "stream": "stdout",
       "text": [
        "c:\templates\f",
        "older99\n",
        "ancy\bale\f",
        "ile07.txt\n",
        "\n",
        "c:\\templates\\folder99\\nancy\\bale\\file07.txt\n"
       ]
      }
     ],
     "prompt_number": 163
    },
    {
     "cell_type": "code",
     "collapsed": false,
     "input": [
      "item = 'x'\n",
      "\n",
      "s = \"\"\"\n",
      "    1\n",
      "   2 2\n",
      "  3 {} 3\n",
      "   4 4\n",
      "    5\n",
      "\"\"\".format(item)\n",
      "\n",
      "print '-' * 5\n",
      "print s.rstrip('\\n')\n",
      "print '-' * 5"
     ],
     "language": "python",
     "metadata": {},
     "outputs": [
      {
       "output_type": "stream",
       "stream": "stdout",
       "text": [
        "-----\n",
        "\n",
        "    1\n",
        "   2 2\n",
        "  3 x 3\n",
        "   4 4\n",
        "    5\n",
        "-----\n"
       ]
      }
     ],
     "prompt_number": 167
    },
    {
     "cell_type": "code",
     "collapsed": false,
     "input": [
      "# -*- coding: UTF-8 -*-\n",
      "s = ur\"peter\\tpan\"\n",
      "print s\n",
      "print type(s)"
     ],
     "language": "python",
     "metadata": {},
     "outputs": [
      {
       "output_type": "stream",
       "stream": "stdout",
       "text": [
        "peter\\tpan\n",
        "<type 'unicode'>\n"
       ]
      }
     ],
     "prompt_number": 170
    },
    {
     "cell_type": "code",
     "collapsed": false,
     "input": [],
     "language": "python",
     "metadata": {},
     "outputs": []
    }
   ],
   "metadata": {}
  }
 ]
}