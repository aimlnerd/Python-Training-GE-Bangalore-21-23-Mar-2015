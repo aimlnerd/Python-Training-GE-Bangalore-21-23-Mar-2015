{
 "metadata": {
  "name": "",
  "signature": "sha256:86b13916384a800c1edac087086e8af3d3ae0f80e1907f341a6aec930f669f3f"
 },
 "nbformat": 3,
 "nbformat_minor": 0,
 "worksheets": [
  {
   "cells": [
    {
     "cell_type": "code",
     "collapsed": false,
     "input": [
      "s = \"perl\"\n",
      "print s[0]\n",
      "print s[2]\n",
      "print s[3]"
     ],
     "language": "python",
     "metadata": {},
     "outputs": [
      {
       "output_type": "stream",
       "stream": "stdout",
       "text": [
        "p\n",
        "r\n",
        "l\n"
       ]
      }
     ],
     "prompt_number": 3
    },
    {
     "cell_type": "code",
     "collapsed": false,
     "input": [
      "s = \"perl\"\n",
      "print s[-1]\n",
      "print s[-2]\n",
      "print s[-3]\n",
      "print s[-4]\n"
     ],
     "language": "python",
     "metadata": {},
     "outputs": [
      {
       "output_type": "stream",
       "stream": "stdout",
       "text": [
        "l\n",
        "r\n",
        "e\n",
        "p\n"
       ]
      }
     ],
     "prompt_number": 7
    },
    {
     "cell_type": "code",
     "collapsed": false,
     "input": [
      "s = 'perlandpython'\n",
      "print s[:4]\n",
      "print s[3:7]\n",
      "print s[-6:]\n",
      "print s[1:-1]\n",
      "\n"
     ],
     "language": "python",
     "metadata": {},
     "outputs": [
      {
       "output_type": "stream",
       "stream": "stdout",
       "text": [
        "perl\n",
        "land\n",
        "python\n",
        "erlandpytho\n"
       ]
      }
     ],
     "prompt_number": 13
    },
    {
     "cell_type": "code",
     "collapsed": false,
     "input": [
      "s = 'prelandpython'\n",
      "print s[::1]\n",
      "print s[::-1]\n",
      "print s[::2]\n",
      "print s[1::2]\n",
      "\n",
      "print s[:2] + s[2::2]\n"
     ],
     "language": "python",
     "metadata": {},
     "outputs": [
      {
       "output_type": "stream",
       "stream": "stdout",
       "text": [
        "prelandpython\n",
        "nohtypdnalerp\n",
        "peadyhn\n",
        "rlnpto\n",
        "preadyhn\n"
       ]
      }
     ],
     "prompt_number": 23
    },
    {
     "cell_type": "code",
     "collapsed": false,
     "input": [
      "s = 'this is a sample string'\n",
      "#print chr(65), ord('A')\n",
      "#iter protocol\n",
      "\n",
      "for item in s:\n",
      "    if item not in 'aeiou ':\n",
      "        print \"[{}] -> {}\".format(item, ord(item))"
     ],
     "language": "python",
     "metadata": {},
     "outputs": [
      {
       "output_type": "stream",
       "stream": "stdout",
       "text": [
        "[t] -> 116\n",
        "[h] -> 104\n",
        "[s] -> 115\n",
        "[s] -> 115\n",
        "[s] -> 115\n",
        "[m] -> 109\n",
        "[p] -> 112\n",
        "[l] -> 108\n",
        "[s] -> 115\n",
        "[t] -> 116\n",
        "[r] -> 114\n",
        "[n] -> 110\n",
        "[g] -> 103\n"
       ]
      }
     ],
     "prompt_number": 30
    },
    {
     "cell_type": "code",
     "collapsed": false,
     "input": [
      "print bool('') \n",
      "print bool(0) \n",
      "print bool(0L) \n",
      "print bool(0.0) \n",
      "\n",
      "print bool([])  #list\n",
      "print bool(())  #tuple\n",
      "\n",
      "print bool({})  #dict\n",
      "print bool(set())  #dict\n",
      "\n",
      "print bool(None)\n",
      "print type(None)  #NAN "
     ],
     "language": "python",
     "metadata": {},
     "outputs": [
      {
       "output_type": "stream",
       "stream": "stdout",
       "text": [
        "False\n",
        "False\n",
        "False\n",
        "False\n",
        "False\n",
        "False\n",
        "False\n",
        "False\n",
        "False\n",
        "<type 'NoneType'>\n"
       ]
      }
     ],
     "prompt_number": 49
    },
    {
     "cell_type": "code",
     "collapsed": false,
     "input": [
      "value = \"peter\"\n",
      "\n",
      "print value == 'pan'\n",
      "\n",
      "if value == 'pan':\n",
      "    print 'found, what we looking for'\n",
      "else:\n",
      "    print 'fails to met'\n",
      "    "
     ],
     "language": "python",
     "metadata": {},
     "outputs": [
      {
       "output_type": "stream",
       "stream": "stdout",
       "text": [
        "False\n",
        "fails to met\n"
       ]
      }
     ],
     "prompt_number": 43
    },
    {
     "cell_type": "code",
     "collapsed": false,
     "input": [
      "filename = '/etc/passwd'\n",
      "\n",
      "if filename:\n",
      "    print \"read the file content\""
     ],
     "language": "python",
     "metadata": {},
     "outputs": [
      {
       "output_type": "stream",
       "stream": "stdout",
       "text": [
        "read the file content\n"
       ]
      }
     ],
     "prompt_number": 46
    },
    {
     "cell_type": "code",
     "collapsed": false,
     "input": [
      "temp = None\n",
      "\n",
      "def demo():\n",
      "    pass\n",
      "    \n",
      "print demo()\n",
      "\n"
     ],
     "language": "python",
     "metadata": {},
     "outputs": [
      {
       "output_type": "stream",
       "stream": "stdout",
       "text": [
        "None\n"
       ]
      }
     ],
     "prompt_number": 54
    },
    {
     "cell_type": "code",
     "collapsed": false,
     "input": [
      "import re\n",
      "m = re.search('python', 'this is a sample string in python')\n",
      "print m\n",
      "#None  == void \n",
      "if m:\n",
      "    print \"we got a match\"\n",
      "else:\n",
      "    print 'failed to match '"
     ],
     "language": "python",
     "metadata": {},
     "outputs": [
      {
       "output_type": "stream",
       "stream": "stdout",
       "text": [
        "<_sre.SRE_Match object at 0x7fb1586cf100>\n",
        "we got a match\n"
       ]
      }
     ],
     "prompt_number": 57
    },
    {
     "cell_type": "code",
     "collapsed": false,
     "input": [
      "l = list()   # []\n",
      "print type(l)\n",
      "print len(l)\n",
      "print l"
     ],
     "language": "python",
     "metadata": {},
     "outputs": [
      {
       "output_type": "stream",
       "stream": "stdout",
       "text": [
        "<type 'list'>\n",
        "0\n",
        "[]\n"
       ]
      }
     ],
     "prompt_number": 59
    },
    {
     "cell_type": "code",
     "collapsed": false,
     "input": [
      "l = ['pam', 123, 12.12, 4+4j, 'pypi']\n",
      "print type(l)\n",
      "print len(l)\n",
      "print l"
     ],
     "language": "python",
     "metadata": {},
     "outputs": [
      {
       "output_type": "stream",
       "stream": "stdout",
       "text": [
        "<type 'list'>\n",
        "5\n",
        "['pam', 123, 12.12, (4+4j), 'pypi']\n"
       ]
      }
     ],
     "prompt_number": 60
    },
    {
     "cell_type": "code",
     "collapsed": false,
     "input": [
      "l = ['pam', 123, 12.12, 4+4j, 'pypi']\n",
      "l.append('GE')\n",
      "l.insert(0, 'bangalore')\n",
      "print l\n",
      "\n",
      "value = l.pop(1)\n",
      "print value; print \n",
      "print l; print\n",
      "\n",
      "del l[0], l[0]\n",
      "print l"
     ],
     "language": "python",
     "metadata": {},
     "outputs": [
      {
       "output_type": "stream",
       "stream": "stdout",
       "text": [
        "['bangalore', 'pam', 123, 12.12, (4+4j), 'pypi', 'GE']\n",
        "pam\n",
        "\n",
        "['bangalore', 123, 12.12, (4+4j), 'pypi', 'GE']\n",
        "\n",
        "[12.12, (4+4j), 'pypi', 'GE']\n"
       ]
      }
     ],
     "prompt_number": 65
    },
    {
     "cell_type": "code",
     "collapsed": false,
     "input": [
      "l = ['pam', 123, 12.12, 4+4j, 'pypi']\n",
      "l[0] = 'andy'\n",
      "l[-1] = 'cpan'\n",
      "\n",
      "print l"
     ],
     "language": "python",
     "metadata": {},
     "outputs": [
      {
       "output_type": "stream",
       "stream": "stdout",
       "text": [
        "['andy', 123, 12.12, (4+4j), 'cpan']\n"
       ]
      }
     ],
     "prompt_number": 66
    },
    {
     "cell_type": "code",
     "collapsed": false,
     "input": [
      "l = ['pam', 123, 12.12, 4+4j, 'pypi']\n",
      "nums = range(1, 6)\n",
      "print nums\n",
      "l.extend(nums)\n",
      "\n",
      "print l"
     ],
     "language": "python",
     "metadata": {},
     "outputs": [
      {
       "output_type": "stream",
       "stream": "stdout",
       "text": [
        "[1, 2, 3, 4, 5]\n",
        "['pam', 123, 12.12, (4+4j), 'pypi', 1, 2, 3, 4, 5]\n"
       ]
      }
     ],
     "prompt_number": 69
    },
    {
     "cell_type": "code",
     "collapsed": false,
     "input": [
      "items = ['pam', 123, 12.12, 4+4j, 'pypi']\n",
      "nums = range(1, 6)\n",
      "\n",
      "result = items + nums\n",
      "print result"
     ],
     "language": "python",
     "metadata": {},
     "outputs": [
      {
       "output_type": "stream",
       "stream": "stdout",
       "text": [
        "['pam', 123, 12.12, (4+4j), 'pypi', 1, 2, 3, 4, 5]\n"
       ]
      }
     ],
     "prompt_number": 70
    },
    {
     "cell_type": "code",
     "collapsed": false,
     "input": [
      "nums = range(1, 42)\n",
      "print nums\n",
      "from random import shuffle, choice\n",
      "\n",
      "shuffle(nums)\n",
      "print \n",
      "\n",
      "print nums; print\n",
      "\n",
      "print choice(nums)\n"
     ],
     "language": "python",
     "metadata": {},
     "outputs": [
      {
       "output_type": "stream",
       "stream": "stdout",
       "text": [
        "[1, 2, 3, 4, 5, 6, 7, 8, 9, 10, 11, 12, 13, 14, 15, 16, 17, 18, 19, 20, 21, 22, 23, 24, 25, 26, 27, 28, 29, 30, 31, 32, 33, 34, 35, 36, 37, 38, 39, 40, 41]\n",
        "\n",
        "[40, 14, 4, 25, 9, 28, 17, 32, 21, 13, 6, 34, 27, 22, 31, 29, 35, 23, 5, 10, 18, 20, 3, 2, 26, 8, 38, 41, 19, 37, 1, 11, 24, 30, 7, 36, 39, 12, 15, 16, 33]\n",
        "\n",
        "1\n"
       ]
      }
     ],
     "prompt_number": 76
    },
    {
     "cell_type": "code",
     "collapsed": false,
     "input": [
      "l = [40, 'pam', 4, 'andy', 9.2, 28, 'eva', 'tim', 21, \n",
      "         'tom', 6, 'charlie', 27]\n",
      "\n",
      "l.reverse()\n",
      "print l\n",
      "l.sort(reverse=True)\n",
      "\n",
      "print \n",
      "print l"
     ],
     "language": "python",
     "metadata": {},
     "outputs": [
      {
       "output_type": "stream",
       "stream": "stdout",
       "text": [
        "[27, 'charlie', 6, 'tom', 21, 'tim', 'eva', 28, 9.2, 'andy', 4, 'pam', 40]\n",
        "\n",
        "['tom', 'tim', 'pam', 'eva', 'charlie', 'andy', 40, 28, 27, 21, 9.2, 6, 4]\n"
       ]
      }
     ],
     "prompt_number": 82
    },
    {
     "cell_type": "code",
     "collapsed": false,
     "input": [
      "names = ['charlie','tom', 'tim', 'eva', 'andy', 'pam']\n",
      "\n",
      "def sort_it(name):\n",
      "    print name\n",
      "    return name[1]\n",
      "\n",
      "#ort_it\n",
      "names.sort(key=lambda name: name[1])\n",
      "print names"
     ],
     "language": "python",
     "metadata": {},
     "outputs": [
      {
       "output_type": "stream",
       "stream": "stdout",
       "text": [
        "['pam', 'charlie', 'tim', 'andy', 'tom', 'eva']\n"
       ]
      }
     ],
     "prompt_number": 90
    },
    {
     "cell_type": "code",
     "collapsed": false,
     "input": [
      "names = ['charlie','tom', 'tim', 'eva', 'andy', 'pam']\n",
      "names.sort()\n",
      "print names\n"
     ],
     "language": "python",
     "metadata": {},
     "outputs": [
      {
       "output_type": "stream",
       "stream": "stdout",
       "text": [
        "['andy', 'charlie', 'eva', 'pam', 'tim', 'tom']\n"
       ]
      }
     ],
     "prompt_number": 92
    },
    {
     "cell_type": "code",
     "collapsed": false,
     "input": [
      "names = ['charlie','tom', 'tim', 'eva', 'andy', 'pam']\n",
      "s = sorted(names, reverse=True)\n",
      "print s\n",
      "print names\n"
     ],
     "language": "python",
     "metadata": {},
     "outputs": [
      {
       "output_type": "stream",
       "stream": "stdout",
       "text": [
        "['tom', 'tim', 'pam', 'eva', 'charlie', 'andy']\n",
        "['charlie', 'tom', 'tim', 'eva', 'andy', 'pam']\n"
       ]
      }
     ],
     "prompt_number": 94
    },
    {
     "cell_type": "code",
     "collapsed": false,
     "input": [
      "s = \"root:x:0:0:root:/root:/bin/bash\"\n",
      "l = s.split(':')\n",
      "print l\n",
      "\n",
      "#print s.split(':')[0]\n",
      "#print s.split(':')[:-1]\n",
      "\n",
      "s2 = [','.join(l)]\n",
      "print s2"
     ],
     "language": "python",
     "metadata": {},
     "outputs": [
      {
       "output_type": "stream",
       "stream": "stdout",
       "text": [
        "['root', 'x', '0', '0', 'root', '/root', '/bin/bash']\n",
        "['root,x,0,0,root,/root,/bin/bash']\n"
       ]
      }
     ],
     "prompt_number": 101
    },
    {
     "cell_type": "code",
     "collapsed": false,
     "input": [
      "l = [[1,2,3], [4,5,6], [8,7,9]]\n",
      "\n",
      "#print enumerate(l)\n",
      "\n",
      "for r_index, item in enumerate(l):\n",
      "    \n",
      "    for c_index, c_item in enumerate(item):\n",
      "        print \"[{}][{}]->{}\\t\".format(r_index, c_index, c_item),\n",
      "        \n",
      "    print"
     ],
     "language": "python",
     "metadata": {},
     "outputs": [
      {
       "output_type": "stream",
       "stream": "stdout",
       "text": [
        "[0][0]->1\t[0][1]->2\t[0][2]->3\t\n",
        "[1][0]->4\t[1][1]->5\t[1][2]->6\t\n",
        "[2][0]->8\t[2][1]->7\t[2][2]->9\t\n"
       ]
      }
     ],
     "prompt_number": 108
    },
    {
     "cell_type": "code",
     "collapsed": false,
     "input": [
      "l = [3, 1, 5, 6, 7]\n",
      "temp = []\n",
      "\n",
      "for item in l:\n",
      "    temp.append(item ** item)\n",
      "    \n",
      "print temp    \n",
      "\n",
      "#list comp.\n",
      "temp2 = [i**i for i in l]\n",
      "print temp2"
     ],
     "language": "python",
     "metadata": {},
     "outputs": [
      {
       "output_type": "stream",
       "stream": "stdout",
       "text": [
        "[27, 1, 3125, 46656, 823543]\n",
        "[27, 1, 3125, 46656, 823543]\n"
       ]
      }
     ],
     "prompt_number": 111
    },
    {
     "cell_type": "code",
     "collapsed": false,
     "input": [
      "l = [[-1,2,3], \n",
      "     [4,5,6, 10], \n",
      "     [8,7,9]]\n",
      "\n",
      "#print [row[1] for row in l]\n",
      "#print [c for row in l for c in row]\n",
      "print [hex(c) for row in l if len(row)==3 for c in row if c%2==0]"
     ],
     "language": "python",
     "metadata": {},
     "outputs": [
      {
       "output_type": "stream",
       "stream": "stdout",
       "text": [
        "['0x2', '0x8']\n"
       ]
      }
     ],
     "prompt_number": 5
    },
    {
     "cell_type": "code",
     "collapsed": false,
     "input": [
      "ul = [l.split(':')[0].title() for l in open('/etc/passwd') \n",
      "                                if l.startswith('a')]\n",
      "#ul.sort()\n",
      "#sorted(ul)\n",
      "print ul"
     ],
     "language": "python",
     "metadata": {},
     "outputs": [
      {
       "output_type": "stream",
       "stream": "stdout",
       "text": [
        "None\n"
       ]
      }
     ],
     "prompt_number": 14
    },
    {
     "cell_type": "code",
     "collapsed": false,
     "input": [
      "l = [1,4,2]\n",
      "l.sort()\n",
      "print l"
     ],
     "language": "python",
     "metadata": {},
     "outputs": [
      {
       "output_type": "stream",
       "stream": "stdout",
       "text": [
        "[1, 2, 4]\n"
       ]
      }
     ],
     "prompt_number": 12
    },
    {
     "cell_type": "code",
     "collapsed": false,
     "input": [
      "#dict\n",
      "info = dict()  #{} \n",
      "print type(info)\n",
      "print len(info)\n",
      "print info"
     ],
     "language": "python",
     "metadata": {},
     "outputs": [
      {
       "output_type": "stream",
       "stream": "stdout",
       "text": [
        "<type 'dict'>\n",
        "0\n",
        "{}\n"
       ]
      }
     ],
     "prompt_number": 15
    },
    {
     "cell_type": "code",
     "collapsed": false,
     "input": [
      "info = {'hostname': 'ws1', \n",
      "        'domain': 'rootcap.in', \n",
      "        'version': 2.7, \n",
      "        'desc': 'web server', \n",
      "        'app': 'apache httpd'}\n",
      "\n",
      "print len(info)\n",
      "print info"
     ],
     "language": "python",
     "metadata": {},
     "outputs": [
      {
       "output_type": "stream",
       "stream": "stdout",
       "text": [
        "5\n",
        "{'app': 'apache httpd', 'domain': 'rootcap.in', 'hostname': 'ws1', 'version': 2.7, 'desc': 'web server'}\n"
       ]
      }
     ],
     "prompt_number": 16
    },
    {
     "cell_type": "code",
     "collapsed": false,
     "input": [
      "info = {'hostname': 'ws1', \n",
      "        'domain': 'rootcap.in', \n",
      "        'version': 2.7, \n",
      "        'desc': 'web server', \n",
      "        'app': 'apache httpd'}\n",
      "\n",
      "item_key = 'ws1'\n",
      "\n",
      "if item_key in info:\n",
      "    info[item_key] = 3.4\n",
      "\n",
      "print info"
     ],
     "language": "python",
     "metadata": {},
     "outputs": [
      {
       "output_type": "stream",
       "stream": "stdout",
       "text": [
        "{'app': 'apache httpd', 'domain': 'rootcap.in', 'hostname': 'ws1', 'version': 2.7, 'desc': 'web server'}\n"
       ]
      }
     ],
     "prompt_number": 19
    },
    {
     "cell_type": "code",
     "collapsed": false,
     "input": [
      "print hash(1)\n",
      "print hash(1.121212)\n",
      "print hash('peter')\n",
      "print hash((1.0,3.3,4))"
     ],
     "language": "python",
     "metadata": {},
     "outputs": [
      {
       "output_type": "stream",
       "stream": "stdout",
       "text": [
        "1\n",
        "3288461817\n",
        "-668365710483308901\n",
        "-3720858363626869835\n"
       ]
      }
     ],
     "prompt_number": 7
    },
    {
     "cell_type": "code",
     "collapsed": false,
     "input": [
      "info = {'hostname': 'ws1', \n",
      "        'domain': 'rootcap.in', \n",
      "        'version': 2.7, \n",
      "        'desc': 'web server', \n",
      "        'app': 'apache httpd'}\n",
      "\n",
      "item_key = 'version'\n",
      "\n",
      "if item_key in info:\n",
      "    info[item_key] = 3.4\n",
      "    \n",
      "info['arch'] = 'x86_64'    \n",
      "\n",
      "value = info.pop('domain')\n",
      "print value; print\n",
      "\n",
      "del info['app'], info['desc']\n",
      "del info\n",
      "#print info"
     ],
     "language": "python",
     "metadata": {},
     "outputs": [
      {
       "output_type": "stream",
       "stream": "stdout",
       "text": [
        "rootcap.in\n",
        "\n"
       ]
      },
      {
       "ename": "NameError",
       "evalue": "name 'info' is not defined",
       "output_type": "pyerr",
       "traceback": [
        "\u001b[1;31m---------------------------------------------------------------------------\u001b[0m\n\u001b[1;31mNameError\u001b[0m                                 Traceback (most recent call last)",
        "\u001b[1;32m<ipython-input-16-f0f9bffb08ef>\u001b[0m in \u001b[0;36m<module>\u001b[1;34m()\u001b[0m\n\u001b[0;32m     17\u001b[0m \u001b[1;32mdel\u001b[0m \u001b[0minfo\u001b[0m\u001b[1;33m[\u001b[0m\u001b[1;34m'app'\u001b[0m\u001b[1;33m]\u001b[0m\u001b[1;33m,\u001b[0m \u001b[0minfo\u001b[0m\u001b[1;33m[\u001b[0m\u001b[1;34m'desc'\u001b[0m\u001b[1;33m]\u001b[0m\u001b[1;33m\u001b[0m\u001b[0m\n\u001b[0;32m     18\u001b[0m \u001b[1;32mdel\u001b[0m \u001b[0minfo\u001b[0m\u001b[1;33m\u001b[0m\u001b[0m\n\u001b[1;32m---> 19\u001b[1;33m \u001b[1;32mprint\u001b[0m \u001b[0minfo\u001b[0m\u001b[1;33m\u001b[0m\u001b[0m\n\u001b[0m",
        "\u001b[1;31mNameError\u001b[0m: name 'info' is not defined"
       ]
      }
     ],
     "prompt_number": 16
    },
    {
     "cell_type": "code",
     "collapsed": false,
     "input": [
      "info = {'hostname': 'ws1', \n",
      "        'domain': 'rootcap.in', \n",
      "        'version': 2.7, \n",
      "        'desc': 'web server', \n",
      "        'app': 'apache httpd'}\n",
      "\"\"\"\n",
      "print info.keys()\n",
      "print \n",
      "print info.values()\n",
      "print \n",
      "print info.items()\n",
      "\"\"\"\n",
      "for item_key in sorted(info):\n",
      "    print item_key, '->' , info[item_key]\n"
     ],
     "language": "python",
     "metadata": {},
     "outputs": [
      {
       "output_type": "stream",
       "stream": "stdout",
       "text": [
        "app -> apache httpd\n",
        "desc -> web server\n",
        "domain -> rootcap.in\n",
        "hostname -> ws1\n",
        "version -> 2.7\n"
       ]
      }
     ],
     "prompt_number": 23
    },
    {
     "cell_type": "code",
     "collapsed": false,
     "input": [
      "info = {'hostname': 'ws1', \n",
      "        'domain': 'rootcap.in', \n",
      "        'version': 2.7, \n",
      "        'desc': 'web server', \n",
      "        'app': 'apache httpd'}\n",
      "\n",
      "print info['app']\n",
      "print info['desc']\n",
      "print info.get('domain')\n",
      "print info.get('domain12')\n",
      "print info.get('domain12', 'unknown-key')"
     ],
     "language": "python",
     "metadata": {},
     "outputs": [
      {
       "output_type": "stream",
       "stream": "stdout",
       "text": [
        "apache httpd\n",
        "web server\n",
        "rootcap.in\n",
        "None\n",
        "unknown-key\n"
       ]
      }
     ],
     "prompt_number": 27
    },
    {
     "cell_type": "code",
     "collapsed": false,
     "input": [
      "items = {i: bin(i) for i in range(1, 10)}\n",
      "items"
     ],
     "language": "python",
     "metadata": {},
     "outputs": [
      {
       "metadata": {},
       "output_type": "pyout",
       "prompt_number": 28,
       "text": [
        "{1: '0b1',\n",
        " 2: '0b10',\n",
        " 3: '0b11',\n",
        " 4: '0b100',\n",
        " 5: '0b101',\n",
        " 6: '0b110',\n",
        " 7: '0b111',\n",
        " 8: '0b1000',\n",
        " 9: '0b1001'}"
       ]
      }
     ],
     "prompt_number": 28
    },
    {
     "cell_type": "code",
     "collapsed": false,
     "input": [
      "from pprint import pprint as pp\n",
      "\n",
      "def get_word_count(txt_file):\n",
      "    wc = {}\n",
      "    \n",
      "    for line in open(txt_file):\n",
      "        for word in line.rstrip().split(' '):\n",
      "            wc[word] = wc.get(word, 0) + 1  \n",
      "            \n",
      "    return wc\n",
      "\n",
      "def group_words_by_count(word_count):\n",
      "    group_by = {}\n",
      "    \n",
      "    for word, count in word_count.items():\n",
      "        if count in group_by:\n",
      "            group_by[count].append(word)\n",
      "        else:\n",
      "            group_by[count] = [word]\n",
      "            \n",
      "    return group_by\n",
      "        \n",
      "count = get_word_count('day2/message')\n",
      "gr_by = group_words_by_count(count)\n",
      "\n",
      "for count in gr_by:\n",
      "    print count\n",
      "    \n",
      "    for word in sorted(gr_by[count])[:3]:\n",
      "        print \"\\t{}\".format(word)\n"
     ],
     "language": "python",
     "metadata": {},
     "outputs": [
      {
       "output_type": "stream",
       "stream": "stdout",
       "text": [
        "1\n",
        "\tAbrams\n",
        "\tBrown\n",
        "\tC.\n",
        "2\n",
        "\thas\n"
       ]
      }
     ],
     "prompt_number": 41
    },
    {
     "cell_type": "code",
     "collapsed": false,
     "input": [
      "l = [1, 3, 5, 7, 9]\n",
      "print map(hex, l)\n",
      "\n",
      "print hex\n",
      "print hex(12)\n"
     ],
     "language": "python",
     "metadata": {},
     "outputs": [
      {
       "output_type": "stream",
       "stream": "stdout",
       "text": [
        "['0x1', '0x3', '0x5', '0x7', '0x9']\n",
        "<built-in function hex>\n",
        "0xc\n"
       ]
      }
     ],
     "prompt_number": 44
    },
    {
     "cell_type": "code",
     "collapsed": false,
     "input": [
      "ascii =  map(ord, 'peter')\n",
      "print ascii\n",
      "\n",
      "def tag_it(value):\n",
      "    return '<ascii char=\"{}\">{}</ascii>'.format(chr(value), \n",
      "                                                value)\n",
      "\n",
      "tags = map(lambda value: \n",
      "           '<ascii char=\"{}\">{}</ascii>'.format(chr(value), \n",
      "                                                value), ascii)\n",
      "print ''.join(tags)"
     ],
     "language": "python",
     "metadata": {},
     "outputs": [
      {
       "output_type": "stream",
       "stream": "stdout",
       "text": [
        "[112, 101, 116, 101, 114]\n",
        "<ascii char=\"p\">112</ascii><ascii char=\"e\">101</ascii><ascii char=\"t\">116</ascii><ascii char=\"e\">101</ascii><ascii char=\"r\">114</ascii>\n"
       ]
      }
     ],
     "prompt_number": 51
    },
    {
     "cell_type": "code",
     "collapsed": false,
     "input": [
      "def power(x, n):\n",
      "    return x ** n\n",
      "\n",
      "n = 2\n",
      "\n",
      "X = [2, 4, 6, 8]\n",
      "N = [n] * len(X)\n",
      "\n",
      "print map(power, X, N)"
     ],
     "language": "python",
     "metadata": {},
     "outputs": [
      {
       "output_type": "stream",
       "stream": "stdout",
       "text": [
        "[4, 16, 36, 64]\n"
       ]
      }
     ],
     "prompt_number": 57
    },
    {
     "cell_type": "code",
     "collapsed": false,
     "input": [
      "l = range(1, 54)\n",
      "print l\n",
      "print \n",
      "print filter(lambda value:  value%7==0, l)\n",
      "print\n",
      "content = filter(lambda line: line.startswith('a'), \n",
      "                 open('/etc/passwd'))\n",
      "\n",
      "content"
     ],
     "language": "python",
     "metadata": {},
     "outputs": [
      {
       "output_type": "stream",
       "stream": "stdout",
       "text": [
        "[1, 2, 3, 4, 5, 6, 7, 8, 9, 10, 11, 12, 13, 14, 15, 16, 17, 18, 19, 20, 21, 22, 23, 24, 25, 26, 27, 28, 29, 30, 31, 32, 33, 34, 35, 36, 37, 38, 39, 40, 41, 42, 43, 44, 45, 46, 47, 48, 49, 50, 51, 52, 53]\n",
        "\n",
        "[7, 14, 21, 28, 35, 42, 49]\n",
        "\n"
       ]
      },
      {
       "metadata": {},
       "output_type": "pyout",
       "prompt_number": 71,
       "text": [
        "['adm:x:3:4:adm:/var/adm:/sbin/nologin\\n',\n",
        " 'apache:x:48:48:Apache:/usr/share/httpd:/sbin/nologin\\n',\n",
        " 'avahi-autoipd:x:170:170:Avahi IPv4LL Stack:/var/lib/avahi-autoipd:/sbin/nologin\\n',\n",
        " 'abrt:x:173:173::/etc/abrt:/sbin/nologin\\n',\n",
        " 'avahi:x:70:70:Avahi mDNS/DNS-SD Stack:/var/run/avahi-daemon:/sbin/nologin\\n']"
       ]
      }
     ],
     "prompt_number": 71
    },
    {
     "cell_type": "code",
     "collapsed": false,
     "input": [
      "l = range(1, 5)\n",
      "print l\n",
      "print \n",
      "\n",
      "def sum_it(a, b):\n",
      "    print \"a = {}, b= {}\".format(a, b)\n",
      "    return a + b\n",
      "\n",
      "print reduce(lambda a, b: a + b, l)\n"
     ],
     "language": "python",
     "metadata": {},
     "outputs": [
      {
       "output_type": "stream",
       "stream": "stdout",
       "text": [
        "[1, 2, 3, 4]\n",
        "\n",
        "10\n"
       ]
      }
     ],
     "prompt_number": 76
    },
    {
     "cell_type": "code",
     "collapsed": false,
     "input": [],
     "language": "python",
     "metadata": {},
     "outputs": []
    }
   ],
   "metadata": {}
  }
 ]
}