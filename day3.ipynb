{
 "metadata": {
  "name": "",
  "signature": "sha256:a2bc87484a3b20a461982c9ec9cb82544c358d0f79d3751a25ddeec124b5f76e"
 },
 "nbformat": 3,
 "nbformat_minor": 0,
 "worksheets": [
  {
   "cells": [
    {
     "cell_type": "code",
     "collapsed": false,
     "input": [
      "#tuple \n",
      "\n",
      "t = ()\n",
      "print t \n",
      "print len(t)\n",
      "print type(t)"
     ],
     "language": "python",
     "metadata": {},
     "outputs": [
      {
       "output_type": "stream",
       "stream": "stdout",
       "text": [
        "()\n",
        "0\n",
        "<type 'tuple'>\n"
       ]
      }
     ],
     "prompt_number": 1
    },
    {
     "cell_type": "code",
     "collapsed": false,
     "input": [
      "t = (1, 12.12, 'peter', 4+4j, 'jim')\n",
      "print t[:-2]\n",
      "\n",
      "for item in t:\n",
      "    print item"
     ],
     "language": "python",
     "metadata": {},
     "outputs": [
      {
       "output_type": "stream",
       "stream": "stdout",
       "text": [
        "(1, 12.12, 'peter')\n",
        "1\n",
        "12.12\n",
        "peter\n",
        "(4+4j)\n",
        "jim\n"
       ]
      }
     ],
     "prompt_number": 5
    },
    {
     "cell_type": "code",
     "collapsed": false,
     "input": [
      "t = (1, 12.12, 'peter', 4+4j, 'jim')\n",
      "t[2] = 'peter pan'"
     ],
     "language": "python",
     "metadata": {},
     "outputs": [
      {
       "ename": "TypeError",
       "evalue": "'tuple' object does not support item assignment",
       "output_type": "pyerr",
       "traceback": [
        "\u001b[1;31m---------------------------------------------------------------------------\u001b[0m\n\u001b[1;31mTypeError\u001b[0m                                 Traceback (most recent call last)",
        "\u001b[1;32m<ipython-input-6-152ec8bac46f>\u001b[0m in \u001b[0;36m<module>\u001b[1;34m()\u001b[0m\n\u001b[0;32m      1\u001b[0m \u001b[0mt\u001b[0m \u001b[1;33m=\u001b[0m \u001b[1;33m(\u001b[0m\u001b[1;36m1\u001b[0m\u001b[1;33m,\u001b[0m \u001b[1;36m12.12\u001b[0m\u001b[1;33m,\u001b[0m \u001b[1;34m'peter'\u001b[0m\u001b[1;33m,\u001b[0m \u001b[1;36m4\u001b[0m\u001b[1;33m+\u001b[0m\u001b[1;36m4j\u001b[0m\u001b[1;33m,\u001b[0m \u001b[1;34m'jim'\u001b[0m\u001b[1;33m)\u001b[0m\u001b[1;33m\u001b[0m\u001b[0m\n\u001b[1;32m----> 2\u001b[1;33m \u001b[0mt\u001b[0m\u001b[1;33m[\u001b[0m\u001b[1;36m2\u001b[0m\u001b[1;33m]\u001b[0m \u001b[1;33m=\u001b[0m \u001b[1;34m'peter pan'\u001b[0m\u001b[1;33m\u001b[0m\u001b[0m\n\u001b[0m",
        "\u001b[1;31mTypeError\u001b[0m: 'tuple' object does not support item assignment"
       ]
      }
     ],
     "prompt_number": 6
    },
    {
     "cell_type": "code",
     "collapsed": false,
     "input": [
      "t1 = 2, \"pam\", 3.4\n",
      "print t "
     ],
     "language": "python",
     "metadata": {},
     "outputs": [
      {
       "output_type": "stream",
       "stream": "stdout",
       "text": [
        "(2, 'pam', 3.4)\n"
       ]
      }
     ],
     "prompt_number": 7
    },
    {
     "cell_type": "code",
     "collapsed": false,
     "input": [
      "t2 = (10000,)\n",
      "print t"
     ],
     "language": "python",
     "metadata": {},
     "outputs": [
      {
       "output_type": "stream",
       "stream": "stdout",
       "text": [
        "(10000,)\n"
       ]
      }
     ],
     "prompt_number": 11
    },
    {
     "cell_type": "code",
     "collapsed": false,
     "input": [
      "t1 = 2, \"pam\", 3.4\n",
      "t2 = ('a', 'e')\n",
      "t3 = t1 + t2 \n",
      "t4 =  (t3 * 3)\n",
      "print t4 \n",
      "\n",
      "t4.count('a')"
     ],
     "language": "python",
     "metadata": {},
     "outputs": [
      {
       "output_type": "stream",
       "stream": "stdout",
       "text": [
        "(2, 'pam', 3.4, 'a', 'e', 2, 'pam', 3.4, 'a', 'e', 2, 'pam', 3.4, 'a', 'e')\n"
       ]
      },
      {
       "metadata": {},
       "output_type": "pyout",
       "prompt_number": 15,
       "text": [
        "3"
       ]
      }
     ],
     "prompt_number": 15
    },
    {
     "cell_type": "code",
     "collapsed": false,
     "input": [
      "#parallel assign\n",
      "name, age, gender = (\"pam\", 4, 'male')\n",
      "print name\n",
      "print gender"
     ],
     "language": "python",
     "metadata": {},
     "outputs": [
      {
       "output_type": "stream",
       "stream": "stdout",
       "text": [
        "pam\n",
        "male\n"
       ]
      }
     ],
     "prompt_number": 18
    },
    {
     "cell_type": "code",
     "collapsed": false,
     "input": [
      "q, r = divmod(5.0, 2)\n",
      "print q, r\n",
      "\n",
      "q = divmod(5.0, 2)\n",
      "print q"
     ],
     "language": "python",
     "metadata": {},
     "outputs": [
      {
       "output_type": "stream",
       "stream": "stdout",
       "text": [
        "2.0 1.0\n",
        "(2.0, 1.0)\n"
       ]
      }
     ],
     "prompt_number": 21
    },
    {
     "cell_type": "code",
     "collapsed": false,
     "input": [
      "t = ((1,2,3), ('pan', 'pypi', 'cpan'))\n",
      "t[-1][-1]"
     ],
     "language": "python",
     "metadata": {},
     "outputs": [
      {
       "metadata": {},
       "output_type": "pyout",
       "prompt_number": 23,
       "text": [
        "'cpan'"
       ]
      }
     ],
     "prompt_number": 23
    },
    {
     "cell_type": "code",
     "collapsed": false,
     "input": [
      "def sqrncube(n):\n",
      "    return n**2, n**3\n",
      "\n",
      "sqrncube(5)"
     ],
     "language": "python",
     "metadata": {},
     "outputs": [
      {
       "metadata": {},
       "output_type": "pyout",
       "prompt_number": 24,
       "text": [
        "(25, 125)"
       ]
      }
     ],
     "prompt_number": 24
    },
    {
     "cell_type": "code",
     "collapsed": false,
     "input": [
      "t = (25, 125)\n",
      "l = list(t)\n",
      "l.pop()\n",
      "\n",
      "tuple(l)"
     ],
     "language": "python",
     "metadata": {},
     "outputs": [
      {
       "metadata": {},
       "output_type": "pyout",
       "prompt_number": 26,
       "text": [
        "(25,)"
       ]
      }
     ],
     "prompt_number": 26
    },
    {
     "cell_type": "code",
     "collapsed": false,
     "input": [
      "items = set()\n",
      "print items\n",
      "print len(items)\n",
      "print type(items)"
     ],
     "language": "python",
     "metadata": {},
     "outputs": [
      {
       "output_type": "stream",
       "stream": "stdout",
       "text": [
        "set([])\n",
        "0\n",
        "<type 'set'>\n"
       ]
      }
     ],
     "prompt_number": 27
    },
    {
     "cell_type": "code",
     "collapsed": false,
     "input": [
      "items = set([1,2,3,4, 'pypi', 'ge'])\n",
      "items.add('python')\n",
      "items.add('guido')\n",
      "\n",
      "items.remove('pypi')\n",
      "print \n",
      "print items\n"
     ],
     "language": "python",
     "metadata": {},
     "outputs": [
      {
       "output_type": "stream",
       "stream": "stdout",
       "text": [
        "\n",
        "set([1, 2, 3, 4, 'python', 'ge', 'guido'])\n"
       ]
      }
     ],
     "prompt_number": 37
    },
    {
     "cell_type": "code",
     "collapsed": false,
     "input": [
      "x = set(range(1, 3))\n",
      "y = set(range(1, 10, 2))\n",
      "\n",
      "\n",
      "print x\n",
      "print y\n",
      "\n",
      "print x.intersection(y).intersection(X)\n",
      "result =  x & y & X\n",
      "\n",
      "print x.union(y)\n",
      "print x | y\n",
      "\n",
      "print x.difference(y)\n",
      "print y - x"
     ],
     "language": "python",
     "metadata": {},
     "outputs": [
      {
       "output_type": "stream",
       "stream": "stdout",
       "text": [
        "set([1, 2])\n",
        "set([1, 3, 9, 5, 7])\n",
        "set([1])\n",
        "set([1])\n",
        "set([1, 2, 3, 5, 7, 9])\n",
        "set([1, 2, 3, 5, 7, 9])\n",
        "set([2])\n",
        "set([9, 3, 5, 7])\n"
       ]
      }
     ],
     "prompt_number": 49
    },
    {
     "cell_type": "code",
     "collapsed": false,
     "input": [
      "l = [4, 'pypi', 'cpan']\n",
      "l3 = l * 3\n",
      "\n",
      "print list(set(l3))"
     ],
     "language": "python",
     "metadata": {},
     "outputs": [
      {
       "output_type": "stream",
       "stream": "stdout",
       "text": [
        "['cpan', 'pypi', 4]\n"
       ]
      }
     ],
     "prompt_number": 52
    },
    {
     "cell_type": "code",
     "collapsed": false,
     "input": [
      "s = set()\n",
      "s.add('pipi')\n",
      "s.add('pipi')\n",
      "print s"
     ],
     "language": "python",
     "metadata": {},
     "outputs": [
      {
       "ename": "TypeError",
       "evalue": "'set' object does not support indexing",
       "output_type": "pyerr",
       "traceback": [
        "\u001b[1;31m---------------------------------------------------------------------------\u001b[0m\n\u001b[1;31mTypeError\u001b[0m                                 Traceback (most recent call last)",
        "\u001b[1;32m<ipython-input-54-db18ac4a37b3>\u001b[0m in \u001b[0;36m<module>\u001b[1;34m()\u001b[0m\n\u001b[0;32m      2\u001b[0m \u001b[0ms\u001b[0m\u001b[1;33m.\u001b[0m\u001b[0madd\u001b[0m\u001b[1;33m(\u001b[0m\u001b[1;34m'pipi'\u001b[0m\u001b[1;33m)\u001b[0m\u001b[1;33m\u001b[0m\u001b[0m\n\u001b[0;32m      3\u001b[0m \u001b[0ms\u001b[0m\u001b[1;33m.\u001b[0m\u001b[0madd\u001b[0m\u001b[1;33m(\u001b[0m\u001b[1;34m'pipi'\u001b[0m\u001b[1;33m)\u001b[0m\u001b[1;33m\u001b[0m\u001b[0m\n\u001b[1;32m----> 4\u001b[1;33m \u001b[1;32mprint\u001b[0m \u001b[0ms\u001b[0m\u001b[1;33m[\u001b[0m\u001b[1;36m0\u001b[0m\u001b[1;33m]\u001b[0m\u001b[1;33m\u001b[0m\u001b[0m\n\u001b[0m",
        "\u001b[1;31mTypeError\u001b[0m: 'set' object does not support indexing"
       ]
      }
     ],
     "prompt_number": 54
    },
    {
     "cell_type": "code",
     "collapsed": false,
     "input": [
      "print {i: bin(i)  for i in range(1, 11)}\n",
      "print \n",
      "\n",
      "print {bin(i)  for i in range(1, 11)}\n",
      "\n"
     ],
     "language": "python",
     "metadata": {},
     "outputs": [
      {
       "output_type": "stream",
       "stream": "stdout",
       "text": [
        "{1: '0b1', 2: '0b10', 3: '0b11', 4: '0b100', 5: '0b101', 6: '0b110', 7: '0b111', 8: '0b1000', 9: '0b1001', 10: '0b1010'}\n",
        "\n",
        "set(['0b11', '0b10', '0b1', '0b1001', '0b1000', '0b1010', '0b111', '0b110', '0b100', '0b101'])\n"
       ]
      }
     ],
     "prompt_number": 57
    },
    {
     "cell_type": "code",
     "collapsed": false,
     "input": [
      "print int('111', 2)"
     ],
     "language": "python",
     "metadata": {},
     "outputs": [
      {
       "output_type": "stream",
       "stream": "stdout",
       "text": [
        "7\n"
       ]
      }
     ],
     "prompt_number": 58
    },
    {
     "cell_type": "code",
     "collapsed": false,
     "input": [
      "users = {l.split(':')[0] for l in open('/etc/passwd')}\n",
      "grps = {l.split(':')[0] for l in open('/etc/group')}\n",
      "\n",
      "print users - grps"
     ],
     "language": "python",
     "metadata": {},
     "outputs": [
      {
       "output_type": "stream",
       "stream": "stdout",
       "text": [
        "set(['operator', 'hacluster', 'sync', 'shutdown', 'halt'])\n"
       ]
      }
     ],
     "prompt_number": 60
    },
    {
     "cell_type": "code",
     "collapsed": false,
     "input": [
      "import re\n",
      "\n",
      "s = 'the python and the perl scripting python'\n",
      "\n",
      "m = re.match('PythoN', s, re.I)\n",
      "print m\n",
      "\n",
      "if m:\n",
      "    print \"got a match :)\"\n",
      "else: \n",
      "    print 'failed to match :('\n",
      "    "
     ],
     "language": "python",
     "metadata": {},
     "outputs": [
      {
       "output_type": "stream",
       "stream": "stdout",
       "text": [
        "None\n",
        "failed to match :(\n"
       ]
      }
     ],
     "prompt_number": 64
    },
    {
     "cell_type": "code",
     "collapsed": false,
     "input": [
      "import re\n",
      "\n",
      "s = 'the python and the perl scripting python'\n",
      "\n",
      "m = re.search('P.+?N', s, re.I)\n",
      "\n",
      "\n",
      "if m:\n",
      "    print \"matched string :\", m.group()\n",
      "    #print m.start()\n",
      "    #print s[m.end():]\n",
      "    #print m.span()\n",
      "else: \n",
      "    print 'failed to match :('\n",
      "    "
     ],
     "language": "python",
     "metadata": {},
     "outputs": [
      {
       "output_type": "stream",
       "stream": "stdout",
       "text": [
        "matched string : python\n"
       ]
      }
     ],
     "prompt_number": 74
    },
    {
     "cell_type": "code",
     "collapsed": false,
     "input": [
      "import re\n",
      "\n",
      "s = 'the python and the perl scripting python'\n",
      "\n",
      "print re.findall('python', s)\n",
      "\n",
      "for mObj in re.finditer('pythoN', s, re.I): \n",
      "    print mObj.span()\n",
      "    "
     ],
     "language": "python",
     "metadata": {},
     "outputs": [
      {
       "output_type": "stream",
       "stream": "stdout",
       "text": [
        "['python', 'python']\n",
        "(4, 10)\n",
        "(34, 40)\n"
       ]
      }
     ],
     "prompt_number": 77
    },
    {
     "cell_type": "code",
     "collapsed": false,
     "input": [
      "import re\n",
      "\n",
      "\n",
      "def grep_me(pattern, file_name):\n",
      "    matched_lines = \"\"\n",
      "    \n",
      "    for line in open(file_name):\n",
      "        if re.search(pattern, line, re.I):\n",
      "            matched_lines += line\n",
      "            \n",
      "    return matched_lines\n",
      "        \n",
      "#print grep_me('^root', '/etc/passwd') ,   \n",
      "print grep_me('bash$', '/etc/passwd') ,   "
     ],
     "language": "python",
     "metadata": {},
     "outputs": [
      {
       "output_type": "stream",
       "stream": "stdout",
       "text": [
        "root:x:0:0:root:/root:/bin/bash\n",
        "postgres:x:26:26:PostgreSQL Server:/var/lib/pgsql:/bin/bash\n",
        "ravi:x:1000:1000:ravij jaya:/home/ravi:/bin/bash\n",
        "janaki:x:1001:1001::/home/janaki:/bin/bash\n",
        "training:x:1002:1002::/home/training:/bin/bash\n",
        "kim:x:1003:1003::/home/kim:/bin/bash\n",
        "nelson:x:1004:1004::/home/nelson:/bin/bash\n",
        "sara:x:1005:1005::/home/sara:/bin/bash\n",
        "rabbitmq:x:974:963:RabbitMQ messaging server:/var/lib/rabbitmq:/bin/bash\n",
        "testit:x:1006:1007::/home/testit:/bin/bash\n"
       ]
      }
     ],
     "prompt_number": 80
    },
    {
     "cell_type": "code",
     "collapsed": false,
     "input": [
      "import re\n",
      "\n",
      "s = \"nelson:x:1004:1004:nelson:/home/nelson:/bin/bash\"\n",
      "s2 = re.sub(':', ',', s)\n",
      "\n",
      "print s2\n",
      "\n",
      "print re.sub('[AEIOU]', '*', s2, flags=re.I, count=3)\n",
      "help(re.sub)\n"
     ],
     "language": "python",
     "metadata": {},
     "outputs": [
      {
       "output_type": "stream",
       "stream": "stdout",
       "text": [
        "nelson,x,1004,1004,nelson,/home/nelson,/bin/bash\n",
        "n*ls*n,x,1004,1004,n*lson,/home/nelson,/bin/bash\n",
        "Help on function sub in module re:\n",
        "\n",
        "sub(pattern, repl, string, count=0, flags=0)\n",
        "    Return the string obtained by replacing the leftmost\n",
        "    non-overlapping occurrences of the pattern in string by the\n",
        "    replacement repl.  repl can be either a string or a callable;\n",
        "    if a string, backslash escapes in it are processed.  If it is\n",
        "    a callable, it's passed the match object and must return\n",
        "    a replacement string to be used.\n",
        "\n"
       ]
      }
     ],
     "prompt_number": 85
    },
    {
     "cell_type": "code",
     "collapsed": false,
     "input": [
      "import re\n",
      "s = \"nelson:x,1004;1004 nelson:/home/nelson:/bin/bash\"\n",
      "\n",
      "items = re.split('[:,;\\ ]', s)\n",
      "\n",
      "print items\n",
      "\n",
      "print \",\".join(items)\n"
     ],
     "language": "python",
     "metadata": {},
     "outputs": [
      {
       "output_type": "stream",
       "stream": "stdout",
       "text": [
        "['nelson', 'x', '1004', '1004', 'nelson', '/home/nelson', '/bin/bash']\n",
        "nelson,x,1004,1004,nelson,/home/nelson,/bin/bash\n"
       ]
      }
     ],
     "prompt_number": 89
    },
    {
     "cell_type": "code",
     "collapsed": false,
     "input": [
      "l = [2, 4, 5, 6]\n",
      "print map(bin, l)\n",
      "\n",
      "def mymap(cb, seq):\n",
      "    return [cb(item) for item in seq]\n",
      "    \n",
      "mymap(bin, l)    "
     ],
     "language": "python",
     "metadata": {},
     "outputs": [
      {
       "output_type": "stream",
       "stream": "stdout",
       "text": [
        "['0b10', '0b100', '0b101', '0b110']\n"
       ]
      },
      {
       "metadata": {},
       "output_type": "pyout",
       "prompt_number": 92,
       "text": [
        "['0b10', '0b100', '0b101', '0b110']"
       ]
      }
     ],
     "prompt_number": 92
    },
    {
     "cell_type": "code",
     "collapsed": false,
     "input": [
      "def demo(*args):\n",
      "    print args\n",
      "    \n",
      "demo()    \n",
      "#demo(1200)    \n",
      "#demo('pypi')\n",
      "#demo(1, 2, 'three', 4+5j, range(5))\n",
      "l = [2, 3, 5, 1, 4]\n",
      "demo(l)\n",
      "demo(*l)"
     ],
     "language": "python",
     "metadata": {},
     "outputs": [
      {
       "output_type": "stream",
       "stream": "stdout",
       "text": [
        "()\n",
        "([2, 3, 5, 1, 4],)\n",
        "(2, 3, 5, 1, 4)\n"
       ]
      }
     ],
     "prompt_number": 98
    },
    {
     "cell_type": "code",
     "collapsed": false,
     "input": [
      "name, age = \"sara\", 4\n",
      "\n",
      "\"I am {}, {} years old\".format(name, age)\n",
      "\n",
      "t =  \"sara\", 4, 'female', 'sleep'\n",
      "\"I am {}, {} years old\".format(t[0], t[1])\n",
      "\n",
      "\"I am {2}, {3} years old\".format(*t)"
     ],
     "language": "python",
     "metadata": {},
     "outputs": [
      {
       "metadata": {},
       "output_type": "pyout",
       "prompt_number": 104,
       "text": [
        "'I am female, sleep years old'"
       ]
      }
     ],
     "prompt_number": 104
    },
    {
     "cell_type": "code",
     "collapsed": false,
     "input": [
      "import os\n",
      "from os.path import isfile, isdir, join\n",
      "\n",
      "#print os.listdir('.')\n",
      "#print \n",
      "#print isfile('/etc/passwd')\n",
      "#print isdir('/etc/passwd')\n",
      "#print \n",
      "print join('/home', 'ravi', 'training')\n",
      "\n",
      "print os.stat('/etc/passwd')\n",
      "print \n",
      "print os.stat('/etc/passwd').st_size\n",
      "print \n",
      "mt =  os.stat('/etc/passwd').st_mtime\n",
      "\n",
      "from time import ctime, strftime, localtime\n",
      "\n",
      "print ctime(mt)\n",
      "print strftime(\"%d-%m-%Y %H:%M:%S\", localtime(mt))\n",
      "#help(strftime)\n",
      "print localtime(mt)\n"
     ],
     "language": "python",
     "metadata": {},
     "outputs": [
      {
       "output_type": "stream",
       "stream": "stdout",
       "text": [
        "/home/ravi/training\n",
        "posix.stat_result(st_mode=33188, st_ino=920337, st_dev=64770, st_nlink=1, st_uid=0, st_gid=0, st_size=4436, st_atime=1458640261, st_mtime=1454682684, st_ctime=1454682684)\n",
        "\n",
        "4436\n",
        "\n",
        "Fri Feb  5 20:01:24 2016\n",
        "05-02-2016 20:01:24\n",
        "time.struct_time(tm_year=2016, tm_mon=2, tm_mday=5, tm_hour=20, tm_min=1, tm_sec=24, tm_wday=4, tm_yday=36, tm_isdst=0)\n"
       ]
      }
     ],
     "prompt_number": 129
    },
    {
     "cell_type": "code",
     "collapsed": false,
     "input": [
      "def tuner(**kwargs):\n",
      "    print kwargs\n",
      "    \n",
      "#tuner()    \n",
      "tuner(constrast=.8, brightness=.3, hue=.5) #keyword\n",
      "print \n",
      "tags = ['login', 'password']\n",
      "vals = ['root', 'x']\n",
      "\n",
      "print zip(tags, vals)\n",
      "items =  dict(zip(tags, vals))\n",
      "\n",
      "#print items\n",
      "\n",
      "tuner(**items) \n"
     ],
     "language": "python",
     "metadata": {},
     "outputs": [
      {
       "output_type": "stream",
       "stream": "stdout",
       "text": [
        "{'hue': 0.5, 'constrast': 0.8, 'brightness': 0.3}\n",
        "\n",
        "[('login', 'root'), ('password', 'x')]\n",
        "{'login': 'root', 'password': 'x'}\n"
       ]
      }
     ],
     "prompt_number": 138
    },
    {
     "cell_type": "code",
     "collapsed": false,
     "input": [
      "names = ['pam', 'sam', 'tim', 'tom']\n",
      "age = [2, 4 ,1]\n",
      "gender = ['female', 'male', 'male', 'male']\n",
      "\n",
      "for n, a, g in zip(names, age, gender):\n",
      "    print \"{:>22} {:>5} {}\".format(n, a, g)"
     ],
     "language": "python",
     "metadata": {},
     "outputs": [
      {
       "output_type": "stream",
       "stream": "stdout",
       "text": [
        "                   pam     2 female\n",
        "                   sam     4 male\n",
        "                   tim     1 male\n"
       ]
      }
     ],
     "prompt_number": 143
    },
    {
     "cell_type": "code",
     "collapsed": false,
     "input": [
      "info = {'name': 'sara', 'age': 4}\n",
      "\n",
      "print \"I am {name}, {age} years old\".format(name=\"peter\", \n",
      "                                            age=\"3\")\n",
      "print \"I am {name}, {age} years old\".format(**info)"
     ],
     "language": "python",
     "metadata": {},
     "outputs": [
      {
       "output_type": "stream",
       "stream": "stdout",
       "text": [
        "I am peter, 3 years old\n",
        "I am sara, 4 years old\n"
       ]
      }
     ],
     "prompt_number": 146
    },
    {
     "cell_type": "code",
     "collapsed": false,
     "input": [
      "def headortail(filename, **kwargs):\n",
      "    pass\n",
      "\n",
      "headortail('passwd')   #read first 10 lines \n",
      "#headortail('passwd', count=4)   #read first 4 lines \n",
      "#headortail('passwd', count=4, order='tail')   \n",
      "                #last 4 lines \n",
      "    \n",
      "#headortail('passwd', count=14, order='head')   \n",
      "                #first 14 lines "
     ],
     "language": "python",
     "metadata": {},
     "outputs": [],
     "prompt_number": 147
    },
    {
     "cell_type": "code",
     "collapsed": false,
     "input": [
      "open('/etc/resolv.conf').readline()"
     ],
     "language": "python",
     "metadata": {},
     "outputs": [
      {
       "metadata": {},
       "output_type": "pyout",
       "prompt_number": 149,
       "text": [
        "'# Generated by NetworkManager\\n'"
       ]
      }
     ],
     "prompt_number": 149
    },
    {
     "cell_type": "code",
     "collapsed": false,
     "input": [
      "from collections import deque\n",
      "content = \"\"\n",
      "with open('/etc/resolv.conf') as fp:\n",
      "    for i in range(3):\n",
      "        content += fp.readline()\n",
      "        \n",
      "        \n",
      "        \n",
      "print content\n",
      "\n",
      "for line in deque(open('/etc/resolv.conf'), 3):\n",
      "    print line,"
     ],
     "language": "python",
     "metadata": {},
     "outputs": [
      {
       "output_type": "stream",
       "stream": "stdout",
       "text": [
        "# Generated by NetworkManager\n",
        "\n",
        "\n",
        "\n",
        "# DNS1=xxx.xxx.xxx.xxx\n",
        "# DNS2=xxx.xxx.xxx.xxx\n",
        "# DOMAIN=lab.foo.com bar.foo.com\n"
       ]
      }
     ],
     "prompt_number": 154
    },
    {
     "cell_type": "code",
     "collapsed": false,
     "input": [
      "#scope \n",
      "#-local\n",
      "#-global\n",
      "#-builtins\n",
      "\n",
      "t = [1,2,3,4]\n",
      "\n",
      "def demo(t2):\n",
      "    t2.pop()\n",
      "    print id(t2)\n",
      "\n",
      "demo(t)\n",
      "print id(t)\n",
      "print t"
     ],
     "language": "python",
     "metadata": {},
     "outputs": [
      {
       "output_type": "stream",
       "stream": "stdout",
       "text": [
        "140196515321472\n",
        "140196515321472\n",
        "[1, 2, 3]\n"
       ]
      }
     ],
     "prompt_number": 157
    },
    {
     "cell_type": "code",
     "collapsed": false,
     "input": [
      "#shallow vs deep copy \n",
      "l = [1,2,3,4,5]\n",
      "backup = l\n",
      "\n",
      "l.insert(1, 'ge')\n",
      "l.pop()\n",
      "\"\"\"\n",
      "print l\n",
      "print backup\n",
      "print id(l)\n",
      "print id(backup)\n",
      "\"\"\"\n",
      "#deep copy\n",
      "from copy import deepcopy\n",
      "print l\n",
      "bk = deepcopy(100)\n",
      "l.pop()\n",
      "print l\n",
      "print bk\n",
      "print id(l)\n",
      "print id(bk)\n",
      "\n",
      "#"
     ],
     "language": "python",
     "metadata": {},
     "outputs": [
      {
       "output_type": "stream",
       "stream": "stdout",
       "text": [
        "[1, 'ge', 2, 3, 4]\n",
        "[1, 'ge', 2, 3]\n",
        "100\n",
        "140196515129104\n",
        "30775264\n"
       ]
      }
     ],
     "prompt_number": 172
    },
    {
     "cell_type": "code",
     "collapsed": false,
     "input": [
      "a = 2 \n",
      "b = 2\n",
      "print id(a)\n",
      "print id(b)"
     ],
     "language": "python",
     "metadata": {},
     "outputs": [
      {
       "output_type": "stream",
       "stream": "stdout",
       "text": [
        "30773632\n",
        "30773632\n"
       ]
      }
     ],
     "prompt_number": 165
    },
    {
     "cell_type": "code",
     "collapsed": false,
     "input": [
      "def demo(m):\n",
      "    return m + 2\n",
      "\n",
      "n = 12\n",
      "n = demo(n)\n",
      "print n\n"
     ],
     "language": "python",
     "metadata": {},
     "outputs": [
      {
       "output_type": "stream",
       "stream": "stdout",
       "text": [
        "14\n"
       ]
      }
     ],
     "prompt_number": 173
    },
    {
     "cell_type": "code",
     "collapsed": false,
     "input": [
      "import xml.etree.ElementTree\n",
      "#help(xml.etree.ElementTree)"
     ],
     "language": "python",
     "metadata": {},
     "outputs": [],
     "prompt_number": 180
    },
    {
     "cell_type": "code",
     "collapsed": false,
     "input": [
      "def demo():\n",
      "    print \"null args\"\n",
      "    \n",
      "def demo(a, b):\n",
      "    print a + b\n",
      "    \n",
      "demo()    "
     ],
     "language": "python",
     "metadata": {},
     "outputs": [
      {
       "ename": "TypeError",
       "evalue": "demo() takes exactly 2 arguments (0 given)",
       "output_type": "pyerr",
       "traceback": [
        "\u001b[1;31m---------------------------------------------------------------------------\u001b[0m\n\u001b[1;31mTypeError\u001b[0m                                 Traceback (most recent call last)",
        "\u001b[1;32m<ipython-input-181-28641117d556>\u001b[0m in \u001b[0;36m<module>\u001b[1;34m()\u001b[0m\n\u001b[0;32m      6\u001b[0m \u001b[1;33m\u001b[0m\u001b[0m\n\u001b[0;32m      7\u001b[0m \u001b[1;33m\u001b[0m\u001b[0m\n\u001b[1;32m----> 8\u001b[1;33m \u001b[0mdemo\u001b[0m\u001b[1;33m(\u001b[0m\u001b[1;33m)\u001b[0m\u001b[1;33m\u001b[0m\u001b[0m\n\u001b[0m",
        "\u001b[1;31mTypeError\u001b[0m: demo() takes exactly 2 arguments (0 given)"
       ]
      }
     ],
     "prompt_number": 181
    },
    {
     "cell_type": "code",
     "collapsed": false,
     "input": [
      "fp = open('/etc/passwd')\n",
      "#fp >> 3 #last 3 lines \n",
      "#fp << 3  #first 3 lines "
     ],
     "language": "python",
     "metadata": {},
     "outputs": [
      {
       "ename": "TypeError",
       "evalue": "unsupported operand type(s) for >>: 'file' and 'int'",
       "output_type": "pyerr",
       "traceback": [
        "\u001b[1;31m---------------------------------------------------------------------------\u001b[0m\n\u001b[1;31mTypeError\u001b[0m                                 Traceback (most recent call last)",
        "\u001b[1;32m<ipython-input-183-51761cd0aec2>\u001b[0m in \u001b[0;36m<module>\u001b[1;34m()\u001b[0m\n\u001b[0;32m      1\u001b[0m \u001b[0mfp\u001b[0m \u001b[1;33m=\u001b[0m \u001b[0mopen\u001b[0m\u001b[1;33m(\u001b[0m\u001b[1;34m'/etc/passwd'\u001b[0m\u001b[1;33m)\u001b[0m\u001b[1;33m\u001b[0m\u001b[0m\n\u001b[1;32m----> 2\u001b[1;33m \u001b[0mfp\u001b[0m \u001b[1;33m>>\u001b[0m \u001b[1;36m3\u001b[0m \u001b[1;31m#last 3 lines\u001b[0m\u001b[1;33m\u001b[0m\u001b[0m\n\u001b[0m",
        "\u001b[1;31mTypeError\u001b[0m: unsupported operand type(s) for >>: 'file' and 'int'"
       ]
      }
     ],
     "prompt_number": 183
    },
    {
     "cell_type": "code",
     "collapsed": false,
     "input": [],
     "language": "python",
     "metadata": {},
     "outputs": []
    }
   ],
   "metadata": {}
  }
 ]
}